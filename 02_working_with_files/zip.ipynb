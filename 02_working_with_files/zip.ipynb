{
 "cells": [
  {
   "cell_type": "code",
   "execution_count": 1,
   "id": "caa37abc-384b-44c2-b248-bb507ed2c45e",
   "metadata": {},
   "outputs": [],
   "source": [
    "import zipfile"
   ]
  },
  {
   "cell_type": "code",
   "execution_count": 5,
   "id": "108dbd4b-3e43-4f8c-a0cf-1e45446509bd",
   "metadata": {},
   "outputs": [],
   "source": [
    "with zipfile.ZipFile('./dados_zip/files_1.zip') as zipp:\n",
    "    zipp.extractall('./dados_zip/unzip')"
   ]
  },
  {
   "cell_type": "code",
   "execution_count": 6,
   "id": "09d209ae-14ea-4a0a-86e5-acb9085c7fe4",
   "metadata": {},
   "outputs": [],
   "source": [
    "import shutil"
   ]
  },
  {
   "cell_type": "code",
   "execution_count": 7,
   "id": "e2d4ced3-6ff3-4d42-8b3d-113482930cff",
   "metadata": {},
   "outputs": [
    {
     "data": {
      "text/plain": [
       "'/home/jovyan/work/02_files/dados_zip/pasta_zipada.zip.zip'"
      ]
     },
     "execution_count": 7,
     "metadata": {},
     "output_type": "execute_result"
    }
   ],
   "source": [
    "# Destino, Formato, Pasta (conteúdo a ser zipado)\n",
    "shutil.make_archive('./dados_zip/pasta_zipada.zip', 'zip', './dados_zip/to_zip')"
   ]
  },
  {
   "cell_type": "code",
   "execution_count": null,
   "id": "7db513bc-72ad-49c9-8026-367d3c581b27",
   "metadata": {},
   "outputs": [],
   "source": []
  }
 ],
 "metadata": {
  "kernelspec": {
   "display_name": "Python 3 (ipykernel)",
   "language": "python",
   "name": "python3"
  },
  "language_info": {
   "codemirror_mode": {
    "name": "ipython",
    "version": 3
   },
   "file_extension": ".py",
   "mimetype": "text/x-python",
   "name": "python",
   "nbconvert_exporter": "python",
   "pygments_lexer": "ipython3",
   "version": "3.11.6"
  }
 },
 "nbformat": 4,
 "nbformat_minor": 5
}
