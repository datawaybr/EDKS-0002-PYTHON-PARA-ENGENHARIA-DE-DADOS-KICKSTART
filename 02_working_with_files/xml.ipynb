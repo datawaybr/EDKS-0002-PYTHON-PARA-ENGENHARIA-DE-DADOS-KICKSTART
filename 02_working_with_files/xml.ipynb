{
 "cells": [
  {
   "cell_type": "code",
   "execution_count": 10,
   "id": "465b2020-9d9d-429a-81b8-150598755a52",
   "metadata": {},
   "outputs": [
    {
     "name": "stdout",
     "output_type": "stream",
     "text": [
      "Requirement already satisfied: dicttoxml in /opt/conda/lib/python3.11/site-packages (1.7.16)\n"
     ]
    }
   ],
   "source": [
    "!pip install dicttoxml\n",
    "\n",
    "import xml.etree.ElementTree as ET\n",
    "import dicttoxml"
   ]
  },
  {
   "cell_type": "code",
   "execution_count": 3,
   "id": "37645de8-e206-41fe-9e8b-c6c6063c63b7",
   "metadata": {},
   "outputs": [],
   "source": [
    "arvore = ET.parse('./dados_xml/file_1.xml')"
   ]
  },
  {
   "cell_type": "code",
   "execution_count": 4,
   "id": "fd3a4d36-f522-4159-9d84-21c8646368a2",
   "metadata": {},
   "outputs": [],
   "source": [
    "raiz = arvore.getroot()"
   ]
  },
  {
   "cell_type": "code",
   "execution_count": 5,
   "id": "97d1fb9d-25cf-4079-9ca9-1821465bf239",
   "metadata": {},
   "outputs": [
    {
     "data": {
      "text/plain": [
       "<Element 'data' at 0xffff89d7ebb0>"
      ]
     },
     "execution_count": 5,
     "metadata": {},
     "output_type": "execute_result"
    }
   ],
   "source": [
    "raiz"
   ]
  },
  {
   "cell_type": "code",
   "execution_count": 6,
   "id": "2bc32a20-da10-486d-97d2-7f5d73cee719",
   "metadata": {},
   "outputs": [
    {
     "name": "stdout",
     "output_type": "stream",
     "text": [
      "{'name': 'item1'}\n",
      "item1abc\n",
      "{'name': 'item2'}\n",
      "item2abc\n"
     ]
    }
   ],
   "source": [
    "for elemento in raiz:\n",
    "    for sub_elemento in elemento.findall('item'):\n",
    "        print(sub_elemento.attrib)\n",
    "        print(sub_elemento.text)"
   ]
  },
  {
   "cell_type": "code",
   "execution_count": 8,
   "id": "c140821b-2145-4752-9984-c11e9486d237",
   "metadata": {},
   "outputs": [],
   "source": [
    "novo_piloto = {\n",
    "    'name': 'Matheus Rossi',\n",
    "    'team': 'McLaren',\n",
    "    'nationality': 'Brazilian'\n",
    "}"
   ]
  },
  {
   "cell_type": "code",
   "execution_count": 11,
   "id": "34ccb0b2-82d5-45dd-a2ad-68c56463253c",
   "metadata": {},
   "outputs": [],
   "source": [
    "xml = dicttoxml.dicttoxml(novo_piloto)"
   ]
  },
  {
   "cell_type": "code",
   "execution_count": 12,
   "id": "1a899b3b-be08-4cf0-af8e-1d5f4e0290ea",
   "metadata": {},
   "outputs": [],
   "source": [
    "with open('./dados_xml/novo_piloto.xml', 'w') as f:\n",
    "    f.write(str(xml, 'utf-8'))"
   ]
  },
  {
   "cell_type": "code",
   "execution_count": null,
   "id": "a275a686-962e-4459-ad90-ebf66a4a47b3",
   "metadata": {},
   "outputs": [],
   "source": []
  }
 ],
 "metadata": {
  "kernelspec": {
   "display_name": "Python 3 (ipykernel)",
   "language": "python",
   "name": "python3"
  },
  "language_info": {
   "codemirror_mode": {
    "name": "ipython",
    "version": 3
   },
   "file_extension": ".py",
   "mimetype": "text/x-python",
   "name": "python",
   "nbconvert_exporter": "python",
   "pygments_lexer": "ipython3",
   "version": "3.11.6"
  }
 },
 "nbformat": 4,
 "nbformat_minor": 5
}
