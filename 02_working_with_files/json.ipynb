{
 "cells": [
  {
   "cell_type": "code",
   "execution_count": 1,
   "id": "1c681fc1-96fb-46fc-bd1e-852505909542",
   "metadata": {},
   "outputs": [],
   "source": [
    "import json"
   ]
  },
  {
   "cell_type": "code",
   "execution_count": 2,
   "id": "22dd985e-01e9-4a07-8d68-ddfc252c3563",
   "metadata": {},
   "outputs": [],
   "source": [
    "with open('./dados_json/file_1.json') as arquivo_json1:\n",
    "    dados = json.load(arquivo_json1)"
   ]
  },
  {
   "cell_type": "code",
   "execution_count": 3,
   "id": "2fa6b8ca-af21-4027-a646-51140314a509",
   "metadata": {},
   "outputs": [
    {
     "data": {
      "text/plain": [
       "dict"
      ]
     },
     "execution_count": 3,
     "metadata": {},
     "output_type": "execute_result"
    }
   ],
   "source": [
    "type(dados)"
   ]
  },
  {
   "cell_type": "code",
   "execution_count": 4,
   "id": "418efe5d-1c1d-4213-97eb-d9fe616b1a54",
   "metadata": {},
   "outputs": [
    {
     "data": {
      "text/plain": [
       "{'season': 2023,\n",
       " 'current': 'yes',\n",
       " 'pilots': [{'name': 'Lewis Hamilton',\n",
       "   'team': 'Mercedes',\n",
       "   'nationality': 'British'},\n",
       "  {'name': 'Max Verstappen',\n",
       "   'team': 'Red Bull Racing',\n",
       "   'nationality': 'Dutch'},\n",
       "  {'name': 'Charles Leclerc', 'team': 'Ferrari', 'nationality': 'Monégasque'}]}"
      ]
     },
     "execution_count": 4,
     "metadata": {},
     "output_type": "execute_result"
    }
   ],
   "source": [
    "dados"
   ]
  },
  {
   "cell_type": "code",
   "execution_count": 5,
   "id": "6152c355-2204-48c0-875f-a01ef98b5788",
   "metadata": {},
   "outputs": [],
   "source": [
    "temporada = dados.get('season')"
   ]
  },
  {
   "cell_type": "code",
   "execution_count": 6,
   "id": "172db07d-38c2-4e5a-a44c-786a98495c37",
   "metadata": {},
   "outputs": [
    {
     "data": {
      "text/plain": [
       "2023"
      ]
     },
     "execution_count": 6,
     "metadata": {},
     "output_type": "execute_result"
    }
   ],
   "source": [
    "temporada"
   ]
  },
  {
   "cell_type": "code",
   "execution_count": 7,
   "id": "7808b85f-509b-4dc5-a3e3-387e1365d17b",
   "metadata": {},
   "outputs": [],
   "source": [
    "pilotos = dados.get('pilots')"
   ]
  },
  {
   "cell_type": "code",
   "execution_count": 8,
   "id": "3fbc3c31-79c4-46ab-8611-e87309374800",
   "metadata": {},
   "outputs": [
    {
     "data": {
      "text/plain": [
       "[{'name': 'Lewis Hamilton', 'team': 'Mercedes', 'nationality': 'British'},\n",
       " {'name': 'Max Verstappen', 'team': 'Red Bull Racing', 'nationality': 'Dutch'},\n",
       " {'name': 'Charles Leclerc', 'team': 'Ferrari', 'nationality': 'Monégasque'}]"
      ]
     },
     "execution_count": 8,
     "metadata": {},
     "output_type": "execute_result"
    }
   ],
   "source": [
    "pilotos"
   ]
  },
  {
   "cell_type": "code",
   "execution_count": null,
   "id": "4b1d1ff0-a905-492a-bf84-756ab88e4a87",
   "metadata": {},
   "outputs": [],
   "source": []
  },
  {
   "cell_type": "code",
   "execution_count": 9,
   "id": "7d2775f2-be2f-4a61-b818-7a59f4341d33",
   "metadata": {},
   "outputs": [],
   "source": [
    "novo_piloto = {\n",
    "    'name': 'Matheus Rossi',\n",
    "    'team': 'McLaren',\n",
    "    'nationality': 'Brazilian'\n",
    "}"
   ]
  },
  {
   "cell_type": "code",
   "execution_count": 10,
   "id": "684d3b6b-b7cb-46ec-a908-29e74e1bd598",
   "metadata": {},
   "outputs": [],
   "source": [
    "with open('./dados_json/novo_piloto.json', 'w') as arquivo_json2:\n",
    "    json.dump(novo_piloto,  arquivo_json2)"
   ]
  },
  {
   "cell_type": "code",
   "execution_count": null,
   "id": "00182935-ca5f-43b0-93a5-d825743f6469",
   "metadata": {},
   "outputs": [],
   "source": []
  }
 ],
 "metadata": {
  "kernelspec": {
   "display_name": "Python 3 (ipykernel)",
   "language": "python",
   "name": "python3"
  },
  "language_info": {
   "codemirror_mode": {
    "name": "ipython",
    "version": 3
   },
   "file_extension": ".py",
   "mimetype": "text/x-python",
   "name": "python",
   "nbconvert_exporter": "python",
   "pygments_lexer": "ipython3",
   "version": "3.11.6"
  }
 },
 "nbformat": 4,
 "nbformat_minor": 5
}
