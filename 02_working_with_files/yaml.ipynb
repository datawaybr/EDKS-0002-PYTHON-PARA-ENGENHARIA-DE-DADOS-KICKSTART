{
 "cells": [
  {
   "cell_type": "code",
   "execution_count": null,
   "id": "f08cdc7c-1d88-48cd-9a74-4c050dc799ff",
   "metadata": {},
   "outputs": [],
   "source": [
    "# yaml\n",
    "# yml"
   ]
  },
  {
   "cell_type": "code",
   "execution_count": 1,
   "id": "afa73e31-ef3a-4b45-8dfc-69b4a9b65cdc",
   "metadata": {},
   "outputs": [
    {
     "name": "stdout",
     "output_type": "stream",
     "text": [
      "Requirement already satisfied: pyyaml in /opt/conda/lib/python3.11/site-packages (6.0.1)\n"
     ]
    }
   ],
   "source": [
    "!pip install pyyaml"
   ]
  },
  {
   "cell_type": "code",
   "execution_count": 2,
   "id": "1c59d60d-f328-4fa2-9296-18f883db85dd",
   "metadata": {},
   "outputs": [],
   "source": [
    "import yaml"
   ]
  },
  {
   "cell_type": "code",
   "execution_count": 9,
   "id": "be4c48d9-8dde-4c5a-9802-8bdea629bc9d",
   "metadata": {},
   "outputs": [
    {
     "name": "stdout",
     "output_type": "stream",
     "text": [
      "{'computador': {'monitor': 'LG-21\"', 'memoria': {'ram': '16gb'}, 'disco': {'ssd': '256gb', 'hdd': '1tb'}, 'cpu': {'model': 'ryzen 5600x'}}}\n"
     ]
    }
   ],
   "source": [
    "with open('./dados_yaml/file_1.yaml', 'r') as arquivo_yaml:\n",
    "    try:\n",
    "        dados = yaml.load(arquivo_yaml, Loader=yaml.FullLoader)\n",
    "        print(dados)\n",
    "    except Exception as erro:\n",
    "        print(f\"erro: {erro}\")"
   ]
  },
  {
   "cell_type": "code",
   "execution_count": 10,
   "id": "a0f32106-b64a-49bb-b697-47c916a5a716",
   "metadata": {},
   "outputs": [],
   "source": [
    "dados = {\n",
    "    'list': [1, 42, 3.141, 1337, 'help'],\n",
    "    'string': 'bla',\n",
    "    'dict': {\n",
    "        'foo': 'bar',\n",
    "        'key': 'value',\n",
    "        'bar': 50\n",
    "    }\n",
    "}"
   ]
  },
  {
   "cell_type": "code",
   "execution_count": 11,
   "id": "a3b74d3f-a0f7-402c-9cc6-20c6565140ca",
   "metadata": {},
   "outputs": [],
   "source": [
    "with open('./dados_yaml/dados.yaml', 'w') as yaml_gravado:\n",
    "    yaml.dump(dados, yaml_gravado)"
   ]
  },
  {
   "cell_type": "code",
   "execution_count": null,
   "id": "9cb26c56-e996-481f-b564-fee1cf25c792",
   "metadata": {},
   "outputs": [],
   "source": []
  }
 ],
 "metadata": {
  "kernelspec": {
   "display_name": "Python 3 (ipykernel)",
   "language": "python",
   "name": "python3"
  },
  "language_info": {
   "codemirror_mode": {
    "name": "ipython",
    "version": 3
   },
   "file_extension": ".py",
   "mimetype": "text/x-python",
   "name": "python",
   "nbconvert_exporter": "python",
   "pygments_lexer": "ipython3",
   "version": "3.11.6"
  }
 },
 "nbformat": 4,
 "nbformat_minor": 5
}
