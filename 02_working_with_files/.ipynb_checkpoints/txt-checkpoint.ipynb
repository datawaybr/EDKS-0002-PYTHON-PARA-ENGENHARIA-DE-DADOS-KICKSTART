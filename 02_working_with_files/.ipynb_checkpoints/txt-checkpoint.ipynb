{
 "cells": [
  {
   "cell_type": "code",
   "execution_count": 2,
   "id": "a1ae8a5c-0dbb-4497-971f-345d659bf9aa",
   "metadata": {},
   "outputs": [
    {
     "name": "stdout",
     "output_type": "stream",
     "text": [
      "example of txt file\n"
     ]
    }
   ],
   "source": [
    "with open('./dados_txt/file_1.txt', 'r') as arquivo:\n",
    "    conteudo = arquivo.read()\n",
    "    print(conteudo)"
   ]
  },
  {
   "cell_type": "code",
   "execution_count": 4,
   "id": "2d43fd68-51d5-455e-871a-eaf3afea7ac7",
   "metadata": {},
   "outputs": [
    {
     "name": "stdout",
     "output_type": "stream",
     "text": [
      "PYTHON\n",
      "IS\n",
      "AWESOME\n"
     ]
    }
   ],
   "source": [
    "with open('./dados_txt/file_2.txt', 'r') as arquivo_multilinha:\n",
    "    conteudo_multilinha = arquivo_multilinha.read().splitlines()\n",
    "\n",
    "    for linha in conteudo_multilinha:\n",
    "        print(linha.upper())"
   ]
  },
  {
   "cell_type": "code",
   "execution_count": 6,
   "id": "87edd813-688f-498b-b2e4-55a2456c1d1c",
   "metadata": {},
   "outputs": [],
   "source": [
    "with open('./dados_txt/file_3.txt', 'w') as arquivo_3:\n",
    "    arquivo_3.write('Hello \\nWorld!')"
   ]
  },
  {
   "cell_type": "code",
   "execution_count": null,
   "id": "91874fda-e0af-4227-ad18-3a4ae0e508ee",
   "metadata": {},
   "outputs": [],
   "source": []
  }
 ],
 "metadata": {
  "kernelspec": {
   "display_name": "Python 3 (ipykernel)",
   "language": "python",
   "name": "python3"
  },
  "language_info": {
   "codemirror_mode": {
    "name": "ipython",
    "version": 3
   },
   "file_extension": ".py",
   "mimetype": "text/x-python",
   "name": "python",
   "nbconvert_exporter": "python",
   "pygments_lexer": "ipython3",
   "version": "3.11.6"
  }
 },
 "nbformat": 4,
 "nbformat_minor": 5
}
