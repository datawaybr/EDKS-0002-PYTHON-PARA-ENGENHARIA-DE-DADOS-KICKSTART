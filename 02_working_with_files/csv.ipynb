{
 "cells": [
  {
   "cell_type": "code",
   "execution_count": 1,
   "id": "bf3c2121-477f-483d-8a13-9b3da79c31c6",
   "metadata": {},
   "outputs": [],
   "source": [
    "import csv"
   ]
  },
  {
   "cell_type": "code",
   "execution_count": null,
   "id": "5a2a61aa-546f-4ae2-9fd4-11d26939e2ae",
   "metadata": {},
   "outputs": [],
   "source": [
    "with open('./dados_csv/file_1.csv' , 'r') as arquivo_csv:\n",
    "    dados = csv.DictReader(arquivo_csv,  delimiter = ',')\n",
    "    for linha in dados:\n",
    "        print(f\"valor: { linha }\")"
   ]
  },
  {
   "cell_type": "code",
   "execution_count": 4,
   "id": "0549c70c-acb7-4ac2-8b68-92c57bde4b43",
   "metadata": {},
   "outputs": [],
   "source": [
    "dados_paises = [\n",
    "    ['name', 'area', 'country_code2', 'country_code3'],\n",
    "    ['Albania', 28748, 'AL', 'ALB'],\n",
    "    ['Algeria', 2381741, 'DZ', 'DZA'],\n",
    "]"
   ]
  },
  {
   "cell_type": "code",
   "execution_count": 7,
   "id": "b394ed22-a97f-4005-9840-1ead0bc98df5",
   "metadata": {},
   "outputs": [],
   "source": [
    "with open('./dados_csv/file_2.csv' , 'w', encoding='UTF8') as arquivo_csv:\n",
    "    writer = csv.writer(arquivo_csv)\n",
    "\n",
    "    writer.writerows(dados_paises)"
   ]
  },
  {
   "cell_type": "code",
   "execution_count": null,
   "id": "82dda9b1-6988-488e-b804-4cabbcdc5f82",
   "metadata": {},
   "outputs": [],
   "source": []
  }
 ],
 "metadata": {
  "kernelspec": {
   "display_name": "Python 3 (ipykernel)",
   "language": "python",
   "name": "python3"
  },
  "language_info": {
   "codemirror_mode": {
    "name": "ipython",
    "version": 3
   },
   "file_extension": ".py",
   "mimetype": "text/x-python",
   "name": "python",
   "nbconvert_exporter": "python",
   "pygments_lexer": "ipython3",
   "version": "3.11.6"
  }
 },
 "nbformat": 4,
 "nbformat_minor": 5
}
