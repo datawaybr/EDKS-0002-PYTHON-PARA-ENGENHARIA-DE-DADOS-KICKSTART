{
 "cells": [
  {
   "cell_type": "code",
   "execution_count": 1,
   "id": "73611920-a008-4d95-9c62-ea3cff37aabb",
   "metadata": {},
   "outputs": [],
   "source": [
    "import pandas as pd\n",
    "from datetime import datetime as dt\n"
   ]
  },
  {
   "cell_type": "code",
   "execution_count": 2,
   "id": "9da7063b-97de-416e-9399-9101164f098e",
   "metadata": {},
   "outputs": [],
   "source": [
    "df_users =  pd.read_csv('./data/users.csv')"
   ]
  },
  {
   "cell_type": "code",
   "execution_count": 3,
   "id": "9af9c181-0a92-42ab-bd67-e30119ea5ef6",
   "metadata": {},
   "outputs": [],
   "source": [
    "df_users['created_datetime'] = dt.now()"
   ]
  },
  {
   "cell_type": "code",
   "execution_count": 4,
   "id": "ed9243c4-0289-4388-86a6-9180ca5dd164",
   "metadata": {},
   "outputs": [
    {
     "data": {
      "text/html": [
       "<div>\n",
       "<style scoped>\n",
       "    .dataframe tbody tr th:only-of-type {\n",
       "        vertical-align: middle;\n",
       "    }\n",
       "\n",
       "    .dataframe tbody tr th {\n",
       "        vertical-align: top;\n",
       "    }\n",
       "\n",
       "    .dataframe thead th {\n",
       "        text-align: right;\n",
       "    }\n",
       "</style>\n",
       "<table border=\"1\" class=\"dataframe\">\n",
       "  <thead>\n",
       "    <tr style=\"text-align: right;\">\n",
       "      <th></th>\n",
       "      <th>id</th>\n",
       "      <th>firstname</th>\n",
       "      <th>lastname</th>\n",
       "      <th>email</th>\n",
       "      <th>email2</th>\n",
       "      <th>profession</th>\n",
       "      <th>age</th>\n",
       "      <th>created_datetime</th>\n",
       "    </tr>\n",
       "  </thead>\n",
       "  <tbody>\n",
       "    <tr>\n",
       "      <th>0</th>\n",
       "      <td>100</td>\n",
       "      <td>Glenda</td>\n",
       "      <td>Pyle</td>\n",
       "      <td>Glenda.Pyle@yopmail.com</td>\n",
       "      <td>Glenda.Pyle@gmail.com</td>\n",
       "      <td>firefighter</td>\n",
       "      <td>25.0</td>\n",
       "      <td>2023-10-15 21:31:54.751861</td>\n",
       "    </tr>\n",
       "    <tr>\n",
       "      <th>1</th>\n",
       "      <td>101</td>\n",
       "      <td>Hollie</td>\n",
       "      <td>Allys</td>\n",
       "      <td>Hollie.Allys@yopmail.com</td>\n",
       "      <td>Hollie.Allys@gmail.com</td>\n",
       "      <td>worker</td>\n",
       "      <td>26.0</td>\n",
       "      <td>2023-10-15 21:31:54.751861</td>\n",
       "    </tr>\n",
       "    <tr>\n",
       "      <th>2</th>\n",
       "      <td>102</td>\n",
       "      <td>Grier</td>\n",
       "      <td>Henrie</td>\n",
       "      <td>Grier.Henrie@yopmail.com</td>\n",
       "      <td>Grier.Henrie@gmail.com</td>\n",
       "      <td>doctor</td>\n",
       "      <td>23.0</td>\n",
       "      <td>2023-10-15 21:31:54.751861</td>\n",
       "    </tr>\n",
       "    <tr>\n",
       "      <th>3</th>\n",
       "      <td>103</td>\n",
       "      <td>Kittie</td>\n",
       "      <td>Strephon</td>\n",
       "      <td>Kittie.Strephon@yopmail.com</td>\n",
       "      <td>Kittie.Strephon@gmail.com</td>\n",
       "      <td>worker</td>\n",
       "      <td>45.0</td>\n",
       "      <td>2023-10-15 21:31:54.751861</td>\n",
       "    </tr>\n",
       "    <tr>\n",
       "      <th>4</th>\n",
       "      <td>104</td>\n",
       "      <td>Kassey</td>\n",
       "      <td>Prober</td>\n",
       "      <td>Kassey.Prober@yopmail.com</td>\n",
       "      <td>Kassey.Prober@gmail.com</td>\n",
       "      <td>worker</td>\n",
       "      <td>45.0</td>\n",
       "      <td>2023-10-15 21:31:54.751861</td>\n",
       "    </tr>\n",
       "  </tbody>\n",
       "</table>\n",
       "</div>"
      ],
      "text/plain": [
       "    id firstname  lastname                        email  \\\n",
       "0  100    Glenda      Pyle      Glenda.Pyle@yopmail.com   \n",
       "1  101    Hollie     Allys     Hollie.Allys@yopmail.com   \n",
       "2  102     Grier    Henrie     Grier.Henrie@yopmail.com   \n",
       "3  103    Kittie  Strephon  Kittie.Strephon@yopmail.com   \n",
       "4  104    Kassey    Prober    Kassey.Prober@yopmail.com   \n",
       "\n",
       "                      email2   profession   age           created_datetime  \n",
       "0      Glenda.Pyle@gmail.com  firefighter  25.0 2023-10-15 21:31:54.751861  \n",
       "1     Hollie.Allys@gmail.com       worker  26.0 2023-10-15 21:31:54.751861  \n",
       "2     Grier.Henrie@gmail.com       doctor  23.0 2023-10-15 21:31:54.751861  \n",
       "3  Kittie.Strephon@gmail.com       worker  45.0 2023-10-15 21:31:54.751861  \n",
       "4    Kassey.Prober@gmail.com       worker  45.0 2023-10-15 21:31:54.751861  "
      ]
     },
     "execution_count": 4,
     "metadata": {},
     "output_type": "execute_result"
    }
   ],
   "source": [
    "df_users.head()"
   ]
  },
  {
   "cell_type": "code",
   "execution_count": 6,
   "id": "993ca95b-2a9a-417a-8f02-a751f1f84117",
   "metadata": {},
   "outputs": [],
   "source": [
    "df_users.to_csv('./data/raw/csv/users.csv', index=False )"
   ]
  },
  {
   "cell_type": "code",
   "execution_count": 7,
   "id": "a1a850e6-fd9f-4cb8-ab1c-ba8bfb515892",
   "metadata": {},
   "outputs": [],
   "source": [
    "df_users.to_json('./data/raw/json/users.json', orient='records')"
   ]
  },
  {
   "cell_type": "code",
   "execution_count": null,
   "id": "36ec023e-adb6-48ea-a2a6-5c2146cb218e",
   "metadata": {},
   "outputs": [],
   "source": []
  }
 ],
 "metadata": {
  "kernelspec": {
   "display_name": "Python 3 (ipykernel)",
   "language": "python",
   "name": "python3"
  },
  "language_info": {
   "codemirror_mode": {
    "name": "ipython",
    "version": 3
   },
   "file_extension": ".py",
   "mimetype": "text/x-python",
   "name": "python",
   "nbconvert_exporter": "python",
   "pygments_lexer": "ipython3",
   "version": "3.11.6"
  }
 },
 "nbformat": 4,
 "nbformat_minor": 5
}
