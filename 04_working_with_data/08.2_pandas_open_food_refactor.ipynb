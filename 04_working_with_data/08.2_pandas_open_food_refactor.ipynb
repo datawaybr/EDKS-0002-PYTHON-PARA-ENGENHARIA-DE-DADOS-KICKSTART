{
 "cells": [
  {
   "cell_type": "code",
   "execution_count": 2,
   "id": "25fbabec-9217-4990-ad07-aed87a543a19",
   "metadata": {},
   "outputs": [
    {
     "name": "stderr",
     "output_type": "stream",
     "text": [
      "WARNING:root:Successfully saved file: productr.csv\n"
     ]
    }
   ],
   "source": [
    "%run \"08.2_pandas_open_food_refactor.py\" >"
   ]
  },
  {
   "cell_type": "code",
   "execution_count": null,
   "id": "fd0cf6b5-3f86-4f1d-807e-827356e9f54c",
   "metadata": {},
   "outputs": [],
   "source": []
  }
 ],
 "metadata": {
  "kernelspec": {
   "display_name": "Python 3 (ipykernel)",
   "language": "python",
   "name": "python3"
  },
  "language_info": {
   "codemirror_mode": {
    "name": "ipython",
    "version": 3
   },
   "file_extension": ".py",
   "mimetype": "text/x-python",
   "name": "python",
   "nbconvert_exporter": "python",
   "pygments_lexer": "ipython3",
   "version": "3.11.6"
  }
 },
 "nbformat": 4,
 "nbformat_minor": 5
}
