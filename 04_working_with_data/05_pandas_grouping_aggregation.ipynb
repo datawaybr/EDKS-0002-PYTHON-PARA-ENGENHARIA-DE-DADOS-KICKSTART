{
 "cells": [
  {
   "cell_type": "code",
   "execution_count": 1,
   "id": "3815430d-b867-4da8-85f1-75c6eaeb0b82",
   "metadata": {},
   "outputs": [],
   "source": [
    "import pandas as pd"
   ]
  },
  {
   "cell_type": "code",
   "execution_count": 2,
   "id": "f3850d02-793a-49f2-a9e4-e484987fa4bf",
   "metadata": {},
   "outputs": [],
   "source": [
    "df =  pd.read_csv('./data/users.csv')"
   ]
  },
  {
   "cell_type": "code",
   "execution_count": 3,
   "id": "db8f1a68-3161-4a10-9d29-8be437b435c2",
   "metadata": {},
   "outputs": [
    {
     "data": {
      "text/html": [
       "<div>\n",
       "<style scoped>\n",
       "    .dataframe tbody tr th:only-of-type {\n",
       "        vertical-align: middle;\n",
       "    }\n",
       "\n",
       "    .dataframe tbody tr th {\n",
       "        vertical-align: top;\n",
       "    }\n",
       "\n",
       "    .dataframe thead th {\n",
       "        text-align: right;\n",
       "    }\n",
       "</style>\n",
       "<table border=\"1\" class=\"dataframe\">\n",
       "  <thead>\n",
       "    <tr style=\"text-align: right;\">\n",
       "      <th></th>\n",
       "      <th>id</th>\n",
       "      <th>firstname</th>\n",
       "      <th>lastname</th>\n",
       "      <th>email</th>\n",
       "      <th>email2</th>\n",
       "      <th>profession</th>\n",
       "      <th>age</th>\n",
       "    </tr>\n",
       "  </thead>\n",
       "  <tbody>\n",
       "    <tr>\n",
       "      <th>0</th>\n",
       "      <td>100</td>\n",
       "      <td>Glenda</td>\n",
       "      <td>Pyle</td>\n",
       "      <td>Glenda.Pyle@yopmail.com</td>\n",
       "      <td>Glenda.Pyle@gmail.com</td>\n",
       "      <td>firefighter</td>\n",
       "      <td>25.0</td>\n",
       "    </tr>\n",
       "    <tr>\n",
       "      <th>1</th>\n",
       "      <td>101</td>\n",
       "      <td>Hollie</td>\n",
       "      <td>Allys</td>\n",
       "      <td>Hollie.Allys@yopmail.com</td>\n",
       "      <td>Hollie.Allys@gmail.com</td>\n",
       "      <td>worker</td>\n",
       "      <td>26.0</td>\n",
       "    </tr>\n",
       "    <tr>\n",
       "      <th>2</th>\n",
       "      <td>102</td>\n",
       "      <td>Grier</td>\n",
       "      <td>Henrie</td>\n",
       "      <td>Grier.Henrie@yopmail.com</td>\n",
       "      <td>Grier.Henrie@gmail.com</td>\n",
       "      <td>doctor</td>\n",
       "      <td>23.0</td>\n",
       "    </tr>\n",
       "    <tr>\n",
       "      <th>3</th>\n",
       "      <td>103</td>\n",
       "      <td>Kittie</td>\n",
       "      <td>Strephon</td>\n",
       "      <td>Kittie.Strephon@yopmail.com</td>\n",
       "      <td>Kittie.Strephon@gmail.com</td>\n",
       "      <td>worker</td>\n",
       "      <td>45.0</td>\n",
       "    </tr>\n",
       "    <tr>\n",
       "      <th>4</th>\n",
       "      <td>104</td>\n",
       "      <td>Kassey</td>\n",
       "      <td>Prober</td>\n",
       "      <td>Kassey.Prober@yopmail.com</td>\n",
       "      <td>Kassey.Prober@gmail.com</td>\n",
       "      <td>worker</td>\n",
       "      <td>45.0</td>\n",
       "    </tr>\n",
       "  </tbody>\n",
       "</table>\n",
       "</div>"
      ],
      "text/plain": [
       "    id firstname  lastname                        email  \\\n",
       "0  100    Glenda      Pyle      Glenda.Pyle@yopmail.com   \n",
       "1  101    Hollie     Allys     Hollie.Allys@yopmail.com   \n",
       "2  102     Grier    Henrie     Grier.Henrie@yopmail.com   \n",
       "3  103    Kittie  Strephon  Kittie.Strephon@yopmail.com   \n",
       "4  104    Kassey    Prober    Kassey.Prober@yopmail.com   \n",
       "\n",
       "                      email2   profession   age  \n",
       "0      Glenda.Pyle@gmail.com  firefighter  25.0  \n",
       "1     Hollie.Allys@gmail.com       worker  26.0  \n",
       "2     Grier.Henrie@gmail.com       doctor  23.0  \n",
       "3  Kittie.Strephon@gmail.com       worker  45.0  \n",
       "4    Kassey.Prober@gmail.com       worker  45.0  "
      ]
     },
     "execution_count": 3,
     "metadata": {},
     "output_type": "execute_result"
    }
   ],
   "source": [
    "df.head()"
   ]
  },
  {
   "cell_type": "code",
   "execution_count": 6,
   "id": "8843b723-8e85-4db0-8542-061609ebb4dc",
   "metadata": {},
   "outputs": [],
   "source": [
    "df_group = (\n",
    "    df\n",
    "    .groupby('profession')\n",
    "    .agg(\n",
    "        avg_age=('age', 'mean'),\n",
    "        min_age=('age', 'min'),\n",
    "        max_age=('age', 'max')\n",
    "    )\n",
    ")"
   ]
  },
  {
   "cell_type": "code",
   "execution_count": 7,
   "id": "46cabbef-bd59-44ff-a7b2-ff3ab0bee655",
   "metadata": {},
   "outputs": [
    {
     "data": {
      "text/html": [
       "<div>\n",
       "<style scoped>\n",
       "    .dataframe tbody tr th:only-of-type {\n",
       "        vertical-align: middle;\n",
       "    }\n",
       "\n",
       "    .dataframe tbody tr th {\n",
       "        vertical-align: top;\n",
       "    }\n",
       "\n",
       "    .dataframe thead th {\n",
       "        text-align: right;\n",
       "    }\n",
       "</style>\n",
       "<table border=\"1\" class=\"dataframe\">\n",
       "  <thead>\n",
       "    <tr style=\"text-align: right;\">\n",
       "      <th></th>\n",
       "      <th>avg_age</th>\n",
       "      <th>min_age</th>\n",
       "      <th>max_age</th>\n",
       "    </tr>\n",
       "    <tr>\n",
       "      <th>profession</th>\n",
       "      <th></th>\n",
       "      <th></th>\n",
       "      <th></th>\n",
       "    </tr>\n",
       "  </thead>\n",
       "  <tbody>\n",
       "    <tr>\n",
       "      <th>developer</th>\n",
       "      <td>25.50</td>\n",
       "      <td>19.0</td>\n",
       "      <td>32.0</td>\n",
       "    </tr>\n",
       "    <tr>\n",
       "      <th>doctor</th>\n",
       "      <td>28.00</td>\n",
       "      <td>23.0</td>\n",
       "      <td>33.0</td>\n",
       "    </tr>\n",
       "    <tr>\n",
       "      <th>firefighter</th>\n",
       "      <td>34.25</td>\n",
       "      <td>23.0</td>\n",
       "      <td>46.0</td>\n",
       "    </tr>\n",
       "    <tr>\n",
       "      <th>police officer</th>\n",
       "      <td>41.00</td>\n",
       "      <td>41.0</td>\n",
       "      <td>41.0</td>\n",
       "    </tr>\n",
       "    <tr>\n",
       "      <th>worker</th>\n",
       "      <td>34.75</td>\n",
       "      <td>23.0</td>\n",
       "      <td>45.0</td>\n",
       "    </tr>\n",
       "  </tbody>\n",
       "</table>\n",
       "</div>"
      ],
      "text/plain": [
       "                avg_age  min_age  max_age\n",
       "profession                               \n",
       "developer         25.50     19.0     32.0\n",
       "doctor            28.00     23.0     33.0\n",
       "firefighter       34.25     23.0     46.0\n",
       "police officer    41.00     41.0     41.0\n",
       "worker            34.75     23.0     45.0"
      ]
     },
     "execution_count": 7,
     "metadata": {},
     "output_type": "execute_result"
    }
   ],
   "source": [
    "df_group"
   ]
  },
  {
   "cell_type": "code",
   "execution_count": null,
   "id": "1d3a4819-b614-4bc8-a459-f23ce7979080",
   "metadata": {},
   "outputs": [],
   "source": []
  }
 ],
 "metadata": {
  "kernelspec": {
   "display_name": "Python 3 (ipykernel)",
   "language": "python",
   "name": "python3"
  },
  "language_info": {
   "codemirror_mode": {
    "name": "ipython",
    "version": 3
   },
   "file_extension": ".py",
   "mimetype": "text/x-python",
   "name": "python",
   "nbconvert_exporter": "python",
   "pygments_lexer": "ipython3",
   "version": "3.11.6"
  }
 },
 "nbformat": 4,
 "nbformat_minor": 5
}
