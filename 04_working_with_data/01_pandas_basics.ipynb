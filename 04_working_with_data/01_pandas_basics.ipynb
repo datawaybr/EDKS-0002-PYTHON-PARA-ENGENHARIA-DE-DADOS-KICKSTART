{
 "cells": [
  {
   "cell_type": "code",
   "execution_count": null,
   "id": "42b10081-bcab-4cc5-9872-b5ac597ed7a0",
   "metadata": {},
   "outputs": [],
   "source": [
    "!pip install pandas"
   ]
  },
  {
   "cell_type": "code",
   "execution_count": 2,
   "id": "ccc68320-6190-4c86-b37f-8ef59c850b27",
   "metadata": {},
   "outputs": [],
   "source": [
    "import pandas as pd"
   ]
  },
  {
   "cell_type": "code",
   "execution_count": null,
   "id": "0ca343b5-b964-4aba-8ca1-fd65d18fbb14",
   "metadata": {},
   "outputs": [],
   "source": [
    "# pd.read_csv(): Ler dados de arquivos CSV\n",
    "# pd.read_excel(): Ler dados de arquivos EXCEL\n",
    "# pd.read_json(): Ler dados de um arquivo JSON\n",
    "# pd.read_sql(): Ler dados de uma base SQL\n",
    "\n",
    "# df.to_csv(): Escrever dados de um dataframe em um arquivo CSV\n",
    "# df.to_excel(): Escrever dados de um dataframe em um arquivo EXCEL\n",
    "# df.to_sql(): Escrever dados de um dataframe em uma base SQL\n",
    "# df.to_json(): Escrever dados de um dataframe em um arquivo JSON"
   ]
  },
  {
   "cell_type": "code",
   "execution_count": 3,
   "id": "50dd708d-3541-481c-93f4-35d9e2c61bbc",
   "metadata": {},
   "outputs": [],
   "source": [
    "dataframe = pd.read_csv('./data/users.csv')"
   ]
  },
  {
   "cell_type": "code",
   "execution_count": 4,
   "id": "30588e4f-b536-4a41-a0e7-690afec4a06b",
   "metadata": {},
   "outputs": [
    {
     "data": {
      "text/plain": [
       "pandas.core.frame.DataFrame"
      ]
     },
     "execution_count": 4,
     "metadata": {},
     "output_type": "execute_result"
    }
   ],
   "source": [
    "type(dataframe)"
   ]
  },
  {
   "cell_type": "code",
   "execution_count": 8,
   "id": "ca42f546-51d4-42b4-ac61-02af422a5793",
   "metadata": {},
   "outputs": [
    {
     "data": {
      "text/plain": [
       "Index(['id', 'firstname', 'lastname', 'email', 'email2', 'profession', 'age'], dtype='object')"
      ]
     },
     "execution_count": 8,
     "metadata": {},
     "output_type": "execute_result"
    }
   ],
   "source": [
    "dataframe.columns"
   ]
  },
  {
   "cell_type": "code",
   "execution_count": null,
   "id": "3fe0e891-8804-4df1-b44c-49443958af47",
   "metadata": {},
   "outputs": [],
   "source": []
  }
 ],
 "metadata": {
  "kernelspec": {
   "display_name": "Python 3 (ipykernel)",
   "language": "python",
   "name": "python3"
  },
  "language_info": {
   "codemirror_mode": {
    "name": "ipython",
    "version": 3
   },
   "file_extension": ".py",
   "mimetype": "text/x-python",
   "name": "python",
   "nbconvert_exporter": "python",
   "pygments_lexer": "ipython3",
   "version": "3.11.6"
  }
 },
 "nbformat": 4,
 "nbformat_minor": 5
}
