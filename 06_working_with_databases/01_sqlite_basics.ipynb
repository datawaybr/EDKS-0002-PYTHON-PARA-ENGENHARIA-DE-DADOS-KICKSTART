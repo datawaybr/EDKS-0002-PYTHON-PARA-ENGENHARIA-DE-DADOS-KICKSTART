{
 "cells": [
  {
   "cell_type": "code",
   "execution_count": 1,
   "id": "5da1108f-d189-4edf-9892-17f5c028bb5f",
   "metadata": {},
   "outputs": [],
   "source": [
    "import sqlite3"
   ]
  },
  {
   "cell_type": "code",
   "execution_count": 2,
   "id": "e25da2b2-b300-4911-93cb-0b5d4473f4c1",
   "metadata": {},
   "outputs": [],
   "source": [
    "conn = sqlite3.connect('./database/sqlite/test.db')"
   ]
  },
  {
   "cell_type": "code",
   "execution_count": 3,
   "id": "a115dabf-d85e-4128-a6d5-6393c9e2b8be",
   "metadata": {},
   "outputs": [
    {
     "data": {
      "text/plain": [
       "<sqlite3.Cursor at 0xffff80bd52c0>"
      ]
     },
     "execution_count": 3,
     "metadata": {},
     "output_type": "execute_result"
    }
   ],
   "source": [
    "conn.execute(\n",
    "    \"\"\"\n",
    "        CREATE TABLE IF NOT EXISTS EMPRESA(\n",
    "            ID INT PRIMARY  KEY       NOT NULL,\n",
    "            NOME            TEXT      NOT NULL,\n",
    "            ENDERECO        CHAR(50),\n",
    "            LIMITE_CREDITO  REAL      NOT NULL\n",
    "        );\n",
    "    \"\"\")"
   ]
  },
  {
   "cell_type": "code",
   "execution_count": 4,
   "id": "58e1f4b1-0efe-4432-80ca-128e7faa6254",
   "metadata": {},
   "outputs": [
    {
     "data": {
      "text/plain": [
       "<sqlite3.Cursor at 0xffff80bd5140>"
      ]
     },
     "execution_count": 4,
     "metadata": {},
     "output_type": "execute_result"
    }
   ],
   "source": [
    "conn.execute(\n",
    "    \"\"\"\n",
    "        INSERT INTO EMPRESA (ID, NOME, ENDERECO, LIMITE_CREDITO)\n",
    "        VALUES (3, 'EMPRESA_H', 'BRAZIL', 20000.00 );\n",
    "    \"\"\")"
   ]
  },
  {
   "cell_type": "code",
   "execution_count": 5,
   "id": "0174b627-167b-4874-90e7-ce004b51f167",
   "metadata": {},
   "outputs": [
    {
     "data": {
      "text/plain": [
       "<sqlite3.Cursor at 0xffff80bd6540>"
      ]
     },
     "execution_count": 5,
     "metadata": {},
     "output_type": "execute_result"
    }
   ],
   "source": [
    "\n",
    "conn.execute(\n",
    "    \"\"\"\n",
    "        INSERT INTO EMPRESA (ID, NOME, ENDERECO, LIMITE_CREDITO)\n",
    "        VALUES (4, 'EMPRESA_R', 'BRAZIL', 25000.00 );\n",
    "    \"\"\")\n"
   ]
  },
  {
   "cell_type": "code",
   "execution_count": 6,
   "id": "0469f26b-de06-4f44-9744-1003552cd1f1",
   "metadata": {},
   "outputs": [
    {
     "name": "stdout",
     "output_type": "stream",
     "text": [
      "row: (2, 'EMPRESA_X', 'BRAZIL', 20000.0)\n",
      "row: (3, 'EMPRESA_Y', 'BRAZIL', 25000.0)\n",
      "row: (4, 'EMPRESA_H', 'BRAZIL', 20000.0)\n",
      "row: (5, 'EMPRESA_R', 'BRAZIL', 25000.0)\n"
     ]
    }
   ],
   "source": [
    "cursor = conn.execute(\"SELECT id + 1, nome, endereco, limite_credito from EMPRESA;\")\n",
    "\n",
    "for row in cursor:\n",
    "   print(f\"row: {row}\")\n",
    "\n",
    "conn.commit()"
   ]
  },
  {
   "cell_type": "code",
   "execution_count": 7,
   "id": "a9dc5b78-62cb-45c3-97f7-3ff0ea0c61b4",
   "metadata": {},
   "outputs": [],
   "source": [
    "conn.close()"
   ]
  }
 ],
 "metadata": {
  "kernelspec": {
   "display_name": "Python 3 (ipykernel)",
   "language": "python",
   "name": "python3"
  },
  "language_info": {
   "codemirror_mode": {
    "name": "ipython",
    "version": 3
   },
   "file_extension": ".py",
   "mimetype": "text/x-python",
   "name": "python",
   "nbconvert_exporter": "python",
   "pygments_lexer": "ipython3",
   "version": "3.11.6"
  }
 },
 "nbformat": 4,
 "nbformat_minor": 5
}
