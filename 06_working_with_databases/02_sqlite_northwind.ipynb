{
 "cells": [
  {
   "cell_type": "code",
   "execution_count": 8,
   "id": "9b221957-e08e-4dc3-babd-9d2f01c0d723",
   "metadata": {},
   "outputs": [],
   "source": [
    "import sqlite3"
   ]
  },
  {
   "cell_type": "code",
   "execution_count": 9,
   "id": "85583fa4-8419-43bc-89b8-410d678db01b",
   "metadata": {},
   "outputs": [],
   "source": [
    "from pprint import pprint"
   ]
  },
  {
   "cell_type": "code",
   "execution_count": 10,
   "id": "22fdbe36-4288-4d3e-8f58-25f09398799b",
   "metadata": {},
   "outputs": [],
   "source": [
    "conn = sqlite3.connect('./database/sqlite/northwind.db')"
   ]
  },
  {
   "cell_type": "code",
   "execution_count": 11,
   "id": "303f4427-bf83-4688-bbee-d736e1c7bcce",
   "metadata": {},
   "outputs": [
    {
     "name": "stdout",
     "output_type": "stream",
     "text": [
      "[('Categories',),\n",
      " ('sqlite_sequence',),\n",
      " ('CustomerCustomerDemo',),\n",
      " ('CustomerDemographics',),\n",
      " ('Customers',),\n",
      " ('Employees',),\n",
      " ('EmployeeTerritories',),\n",
      " ('Order Details',),\n",
      " ('Orders',),\n",
      " ('Products',),\n",
      " ('Regions',),\n",
      " ('Shippers',),\n",
      " ('Suppliers',),\n",
      " ('Territories',),\n",
      " ('OrdersByCityCount',)]\n"
     ]
    }
   ],
   "source": [
    "cursor = conn.execute(\"\"\"\n",
    "   SELECT name \n",
    "     FROM sqlite_master\n",
    "    WHERE type='table';\n",
    "   \"\"\"\n",
    ")\n",
    "tables = cursor.fetchall()\n",
    "pprint(tables)"
   ]
  },
  {
   "cell_type": "code",
   "execution_count": 14,
   "id": "8e6b7140-2567-4c24-b043-3ffe0873a565",
   "metadata": {},
   "outputs": [
    {
     "name": "stdout",
     "output_type": "stream",
     "text": [
      "[('CREATE TABLE [Orders](\\n'\n",
      "  '   [OrderID]INTEGER NOT NULL PRIMARY KEY AUTOINCREMENT,\\n'\n",
      "  '   [CustomerID]TEXT,\\n'\n",
      "  '   [EmployeeID]INTEGER,\\n'\n",
      "  '   [OrderDate]DATETIME,\\n'\n",
      "  '   [RequiredDate]DATETIME,\\n'\n",
      "  '   [ShippedDate]DATETIME,\\n'\n",
      "  '   [ShipVia]INTEGER,\\n'\n",
      "  '   [Freight]NUMERIC DEFAULT 0,\\n'\n",
      "  '   [ShipName]TEXT,\\n'\n",
      "  '   [ShipAddress]TEXT,\\n'\n",
      "  '   [ShipCity]TEXT,\\n'\n",
      "  '   [ShipRegion]TEXT,\\n'\n",
      "  '   [ShipPostalCode]TEXT,\\n'\n",
      "  '   [ShipCountry]TEXT,\\n'\n",
      "  '   FOREIGN KEY ([EmployeeID]) REFERENCES [Employees] ([EmployeeID]) \\n'\n",
      "  '\\t\\tON DELETE NO ACTION ON UPDATE NO ACTION,\\n'\n",
      "  '\\tFOREIGN KEY ([CustomerID]) REFERENCES [Customers] ([CustomerID]) \\n'\n",
      "  '\\t\\tON DELETE NO ACTION ON UPDATE NO ACTION,\\n'\n",
      "  '\\tFOREIGN KEY ([ShipVia]) REFERENCES [Shippers] ([ShipperID]) \\n'\n",
      "  '\\t\\tON DELETE NO ACTION ON UPDATE NO ACTION\\n'\n",
      "  ')',)]\n"
     ]
    }
   ],
   "source": [
    "cursor = conn.execute(\"\"\"\n",
    "   SELECT sql\n",
    "     FROM sqlite_master\n",
    "    WHERE type = 'table' \n",
    "      AND name = 'Orders'\n",
    "   \"\"\"\n",
    ")\n",
    "orders_schema = cursor.fetchall()\n",
    "pprint(orders_schema)"
   ]
  },
  {
   "cell_type": "code",
   "execution_count": 16,
   "id": "d93b24fc-8059-4d85-a887-2f0681f89534",
   "metadata": {},
   "outputs": [
    {
     "name": "stdout",
     "output_type": "stream",
     "text": [
      "\n",
      "row: (10248, 'VINET', 5, '2016-07-04', '2016-08-01', '2016-07-16', 3, 32.38, 'Vins et alcools Chevalier', '59 rue de l-Abbaye', 'Reims', 'Western Europe', '51100', 'France')\n",
      "\n",
      "row: (10249, 'TOMSP', 6, '2016-07-05', '2016-08-16', '2016-07-10', 1, 11.61, 'Toms Spezialitäten', 'Luisenstr. 48', 'Münster', 'Western Europe', '44087', 'Germany')\n",
      "\n",
      "row: (10250, 'HANAR', 4, '2016-07-08', '2016-08-05', '2016-07-12', 2, 65.83, 'Hanari Carnes', 'Rua do Paço, 67', 'Rio de Janeiro', 'South America', '05454-876', 'Brazil')\n",
      "\n",
      "row: (10251, 'VICTE', 3, '2016-07-08', '2016-08-05', '2016-07-15', 1, 41.34, 'Victuailles en stock', '2, rue du Commerce', 'Lyon', 'Western Europe', '69004', 'France')\n",
      "\n",
      "row: (10252, 'SUPRD', 4, '2016-07-09', '2016-08-06', '2016-07-11', 2, 51.3, 'Suprêmes délices', 'Boulevard Tirou, 255', 'Charleroi', 'Western Europe', 'B-6000', 'Belgium')\n"
     ]
    }
   ],
   "source": [
    "cursor = conn.execute(\"SELECT * from Orders limit 5;\")\n",
    "\n",
    "for row in cursor:\n",
    "   print(f\"\\nrow: {row}\")"
   ]
  },
  {
   "cell_type": "code",
   "execution_count": 19,
   "id": "1b5e58ec-e17a-4373-b140-9d7ab76d4aad",
   "metadata": {},
   "outputs": [
    {
     "ename": "ProgrammingError",
     "evalue": "Cannot operate on a closed database.",
     "output_type": "error",
     "traceback": [
      "\u001b[0;31m---------------------------------------------------------------------------\u001b[0m",
      "\u001b[0;31mProgrammingError\u001b[0m                          Traceback (most recent call last)",
      "Cell \u001b[0;32mIn[19], line 1\u001b[0m\n\u001b[0;32m----> 1\u001b[0m cursor \u001b[38;5;241m=\u001b[39m \u001b[43mconn\u001b[49m\u001b[38;5;241;43m.\u001b[39;49m\u001b[43mexecute\u001b[49m\u001b[43m(\u001b[49m\u001b[38;5;124;43m\"\"\"\u001b[39;49m\n\u001b[1;32m      2\u001b[0m \u001b[38;5;124;43m   SELECT OrderID,\u001b[39;49m\n\u001b[1;32m      3\u001b[0m \u001b[38;5;124;43m          CustomerID,\u001b[39;49m\n\u001b[1;32m      4\u001b[0m \u001b[38;5;124;43m          OrderDate\u001b[39;49m\n\u001b[1;32m      5\u001b[0m \u001b[38;5;124;43m     from Orders\u001b[39;49m\n\u001b[1;32m      6\u001b[0m \u001b[38;5;124;43m    limit 5;\u001b[39;49m\n\u001b[1;32m      7\u001b[0m \u001b[38;5;124;43m   \u001b[39;49m\u001b[38;5;124;43m\"\"\"\u001b[39;49m\u001b[43m)\u001b[49m\n\u001b[1;32m      9\u001b[0m \u001b[38;5;28;01mfor\u001b[39;00m row \u001b[38;5;129;01min\u001b[39;00m cursor:\n\u001b[1;32m     10\u001b[0m    \u001b[38;5;28mprint\u001b[39m(\u001b[38;5;124mf\u001b[39m\u001b[38;5;124m\"\u001b[39m\u001b[38;5;124mrow: \u001b[39m\u001b[38;5;132;01m{\u001b[39;00mrow\u001b[38;5;132;01m}\u001b[39;00m\u001b[38;5;124m\"\u001b[39m)\n",
      "\u001b[0;31mProgrammingError\u001b[0m: Cannot operate on a closed database."
     ]
    }
   ],
   "source": [
    "cursor = conn.execute(\"\"\"\n",
    "   SELECT OrderID,\n",
    "          CustomerID,\n",
    "          OrderDate\n",
    "     from Orders\n",
    "    limit 5;\n",
    "   \"\"\")\n",
    "\n",
    "for row in cursor:\n",
    "   print(f\"row: {row}\")"
   ]
  },
  {
   "cell_type": "code",
   "execution_count": 18,
   "id": "cc8bd81b-75b0-4259-b3b7-190f44c6c12d",
   "metadata": {},
   "outputs": [],
   "source": [
    "\n",
    "conn.close()"
   ]
  },
  {
   "cell_type": "code",
   "execution_count": null,
   "id": "0ff761c3-5f14-4495-b1a1-62876dfcc71d",
   "metadata": {},
   "outputs": [],
   "source": []
  }
 ],
 "metadata": {
  "kernelspec": {
   "display_name": "Python 3 (ipykernel)",
   "language": "python",
   "name": "python3"
  },
  "language_info": {
   "codemirror_mode": {
    "name": "ipython",
    "version": 3
   },
   "file_extension": ".py",
   "mimetype": "text/x-python",
   "name": "python",
   "nbconvert_exporter": "python",
   "pygments_lexer": "ipython3",
   "version": "3.11.6"
  }
 },
 "nbformat": 4,
 "nbformat_minor": 5
}
