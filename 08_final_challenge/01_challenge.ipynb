{
 "cells": [
  {
   "cell_type": "markdown",
   "metadata": {},
   "source": [
    "# Parte 1 - Extrair Dados"
   ]
  },
  {
   "cell_type": "code",
   "execution_count": 1,
   "metadata": {},
   "outputs": [],
   "source": [
    "import pandas as pd\n",
    "import requests"
   ]
  },
  {
   "cell_type": "markdown",
   "metadata": {},
   "source": [
    "### Lista de UF's"
   ]
  },
  {
   "cell_type": "code",
   "execution_count": 2,
   "metadata": {},
   "outputs": [],
   "source": [
    "def get_uf_list():\n",
    "    response = requests.get('http://servicodados.ibge.gov.br/api/v1/localidades/estados')\n",
    "\n",
    "    if response.status_code == 200:\n",
    "        uf_metadata = response.json()\n",
    "        uf_siglas = [ uf['sigla'] for uf in uf_metadata ]\n",
    "        \n",
    "        return uf_siglas\n",
    "    else:\n",
    "        raise Exception('Não foi possível obter os dados dos estados brasileiros.')"
   ]
  },
  {
   "cell_type": "markdown",
   "metadata": {},
   "source": [
    "### Área de Cada Estado"
   ]
  },
  {
   "cell_type": "code",
   "execution_count": 3,
   "metadata": {},
   "outputs": [],
   "source": [
    "def get_metadados_estado(uf:str):\n",
    "    url = f'http://servicodados.ibge.gov.br/api/v3/malhas/estados/{uf}/metadados'\n",
    "\n",
    "    response = requests.get(url)\n",
    "\n",
    "    if response.status_code == 200:\n",
    "        return response.json()\n",
    "    else:\n",
    "        return None"
   ]
  },
  {
   "cell_type": "code",
   "execution_count": 4,
   "metadata": {},
   "outputs": [],
   "source": [
    "def get_uf_area(lista_ufs_sligas:list):\n",
    "    uf_area = {}\n",
    "\n",
    "    for uf in lista_ufs_sligas:\n",
    "        metadados = get_metadados_estado(uf)\n",
    "\n",
    "        uf_metadado_area = metadados[0]['area']['dimensao']\n",
    "        uf_area[uf] = uf_metadado_area\n",
    "    \n",
    "    return uf_area"
   ]
  },
  {
   "cell_type": "markdown",
   "metadata": {},
   "source": [
    "### Lista de Cidades por Estado"
   ]
  },
  {
   "cell_type": "code",
   "execution_count": 5,
   "metadata": {},
   "outputs": [],
   "source": [
    "def get_metadados_municipio(uf:str):\n",
    "    url = f'http://servicodados.ibge.gov.br/api/v1/localidades/estados/{uf}/municipios'\n",
    "\n",
    "    response = requests.get(url)\n",
    "\n",
    "    if response.status_code == 200:\n",
    "        return response.json()\n",
    "    else:\n",
    "        return None"
   ]
  },
  {
   "cell_type": "code",
   "execution_count": 6,
   "metadata": {},
   "outputs": [],
   "source": [
    "def get_municipios(lista_ufs_sligas:list):\n",
    "    ufs_municipios = {}\n",
    "\n",
    "    for uf in lista_ufs_sligas:\n",
    "        metadados = get_metadados_municipio(uf)\n",
    "\n",
    "        ufs_municipio = []\n",
    "\n",
    "        for municipio in metadados:\n",
    "            ufs_municipio.append(municipio['nome'])\n",
    "\n",
    "        ufs_municipios[uf] = ufs_municipio\n",
    "    \n",
    "    return ufs_municipios"
   ]
  },
  {
   "cell_type": "code",
   "execution_count": 7,
   "metadata": {},
   "outputs": [],
   "source": [
    "lista_ufs_sligas = get_uf_list()\n",
    "\n",
    "lista_ufs_area = get_uf_area(lista_ufs_sligas)\n",
    "lista_ufs_municipios = get_municipios(lista_ufs_sligas)"
   ]
  },
  {
   "cell_type": "markdown",
   "metadata": {},
   "source": [
    "# Parte 2 - Transformar Dados"
   ]
  },
  {
   "cell_type": "markdown",
   "metadata": {},
   "source": [
    "### Dados de Área por UF"
   ]
  },
  {
   "cell_type": "code",
   "execution_count": 8,
   "metadata": {},
   "outputs": [],
   "source": [
    "# Transformando em DataFrame e convertendo os tipos\n",
    "uf_area_df = pd.DataFrame(list(lista_ufs_area.items()), columns=['UF', 'Area'])\n",
    "\n",
    "# Convertendo os tipos de dados\n",
    "uf_area_df['Area'] = uf_area_df['Area'].astype(float)\n",
    "\n",
    "# Ordenando por área\n",
    "uf_area_df_ordenada = uf_area_df.sort_values(by='Area', ascending=False)"
   ]
  },
  {
   "cell_type": "markdown",
   "metadata": {},
   "source": [
    "### Lista de Municipios por UF"
   ]
  },
  {
   "cell_type": "code",
   "execution_count": 19,
   "metadata": {},
   "outputs": [],
   "source": [
    "lista_ufs_municipios_df = pd.DataFrame(list(lista_ufs_municipios.items()), columns=['UF', 'Municipios'])\n",
    "lista_ufs_municipios_df_exploded = lista_ufs_municipios_df.explode('Municipios')"
   ]
  },
  {
   "cell_type": "markdown",
   "metadata": {},
   "source": [
    "# Parte 3 - Salvando os Dados"
   ]
  },
  {
   "cell_type": "code",
   "execution_count": 10,
   "metadata": {},
   "outputs": [],
   "source": [
    "# Salvando lista de UF's em CSV\n",
    "uf_area_df_ordenada.to_csv('./data/csv/uf_area.csv', index=False, sep=';', encoding='utf-8')"
   ]
  },
  {
   "cell_type": "code",
   "execution_count": 20,
   "metadata": {},
   "outputs": [],
   "source": [
    "# Salvando lista de UF's em Parquet particionado por UF\n",
    "lista_ufs_municipios_df_exploded.to_parquet('./data/parquet/municipios/', index=False, partition_cols=['UF'])"
   ]
  },
  {
   "cell_type": "code",
   "execution_count": null,
   "metadata": {},
   "outputs": [],
   "source": []
  }
 ],
 "metadata": {
  "kernelspec": {
   "display_name": "Python 3 (ipykernel)",
   "language": "python",
   "name": "python3"
  },
  "language_info": {
   "codemirror_mode": {
    "name": "ipython",
    "version": 3
   },
   "file_extension": ".py",
   "mimetype": "text/x-python",
   "name": "python",
   "nbconvert_exporter": "python",
   "pygments_lexer": "ipython3",
   "version": "3.11.4"
  }
 },
 "nbformat": 4,
 "nbformat_minor": 4
}
