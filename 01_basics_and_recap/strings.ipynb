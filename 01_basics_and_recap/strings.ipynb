{
 "cells": [
  {
   "cell_type": "code",
   "execution_count": 4,
   "id": "fba3a6e2-b78c-400e-b63e-bc661d2ad3d9",
   "metadata": {},
   "outputs": [],
   "source": [
    "nome = 'Bob'"
   ]
  },
  {
   "cell_type": "code",
   "execution_count": 5,
   "id": "f9f43958-062c-46e5-9f98-f9d4f62c5966",
   "metadata": {},
   "outputs": [],
   "source": [
    "idade = 20"
   ]
  },
  {
   "cell_type": "code",
   "execution_count": 10,
   "id": "641c0615-161e-4468-929b-c989a97e3e94",
   "metadata": {},
   "outputs": [],
   "source": [
    "# format\n",
    "frase_format = \"Olá, meu nome é: {} e tenho {} anos\".format(nome, idade)"
   ]
  },
  {
   "cell_type": "code",
   "execution_count": 11,
   "id": "e1bb9906-50bd-4db1-bb24-2a91bf4ad6e6",
   "metadata": {},
   "outputs": [
    {
     "data": {
      "text/plain": [
       "'Olá, meu nome é: Bob e tenho 20 anos'"
      ]
     },
     "execution_count": 11,
     "metadata": {},
     "output_type": "execute_result"
    }
   ],
   "source": [
    "frase_format"
   ]
  },
  {
   "cell_type": "code",
   "execution_count": 12,
   "id": "2f678371-7fa5-4e47-8b6e-25cd8eaf55eb",
   "metadata": {},
   "outputs": [],
   "source": [
    "# f-string"
   ]
  },
  {
   "cell_type": "code",
   "execution_count": 25,
   "id": "7a33d74d-14c7-4777-9b69-931c1ac13ccc",
   "metadata": {},
   "outputs": [],
   "source": [
    "frase_f_strings = f\"Olá, meu nome é: {nome}, tenho {idade} anos\""
   ]
  },
  {
   "cell_type": "code",
   "execution_count": 26,
   "id": "d964c7f4-165c-42e4-b23d-9803b7eedee6",
   "metadata": {},
   "outputs": [
    {
     "data": {
      "text/plain": [
       "'Olá, meu nome é: Bob, tenho 20 anos'"
      ]
     },
     "execution_count": 26,
     "metadata": {},
     "output_type": "execute_result"
    }
   ],
   "source": [
    "frase_f_strings"
   ]
  },
  {
   "cell_type": "code",
   "execution_count": 18,
   "id": "301b232a-5936-44b0-97aa-05c645cd5ee4",
   "metadata": {},
   "outputs": [],
   "source": [
    "sql = f\"\"\"\n",
    "  select *\n",
    "    from tabela\n",
    "   where nome = { nome }\n",
    "\"\"\""
   ]
  },
  {
   "cell_type": "code",
   "execution_count": 19,
   "id": "a0169f78-b4da-40eb-9cde-5b9383d1febc",
   "metadata": {},
   "outputs": [
    {
     "data": {
      "text/plain": [
       "'\\n  select *\\n    from tabela\\n   where nome = Bob\\n'"
      ]
     },
     "execution_count": 19,
     "metadata": {},
     "output_type": "execute_result"
    }
   ],
   "source": [
    "sql"
   ]
  },
  {
   "cell_type": "code",
   "execution_count": 20,
   "id": "db008bb1-0ee0-4e7a-aded-63004decbdc5",
   "metadata": {},
   "outputs": [],
   "source": [
    "frase_upper = frase_f_strings.upper()"
   ]
  },
  {
   "cell_type": "code",
   "execution_count": 21,
   "id": "2efe4007-995c-4b9a-a976-fd34340520a2",
   "metadata": {},
   "outputs": [
    {
     "data": {
      "text/plain": [
       "'OLÁ, MEU NOME É: BOB E TENHO 20 ANOS'"
      ]
     },
     "execution_count": 21,
     "metadata": {},
     "output_type": "execute_result"
    }
   ],
   "source": [
    "frase_upper"
   ]
  },
  {
   "cell_type": "code",
   "execution_count": 22,
   "id": "d5ff6ab6-a194-4f8b-a0bf-15686445263d",
   "metadata": {},
   "outputs": [],
   "source": [
    "frase_lower = frase_f_strings.lower()"
   ]
  },
  {
   "cell_type": "code",
   "execution_count": 23,
   "id": "6cb838e3-b88d-438e-99ed-b420843e3716",
   "metadata": {},
   "outputs": [
    {
     "data": {
      "text/plain": [
       "'olá, meu nome é: bob e tenho 20 anos'"
      ]
     },
     "execution_count": 23,
     "metadata": {},
     "output_type": "execute_result"
    }
   ],
   "source": [
    "frase_lower"
   ]
  },
  {
   "cell_type": "code",
   "execution_count": 29,
   "id": "76e3b4c0-b902-4f32-883c-66651d8095e9",
   "metadata": {},
   "outputs": [],
   "source": [
    "# split\n",
    "frase_split = frase_f_strings.split(\",\")"
   ]
  },
  {
   "cell_type": "code",
   "execution_count": 30,
   "id": "3a6bd7d0-2b1c-44c8-9532-0d6800d3e5ba",
   "metadata": {},
   "outputs": [
    {
     "data": {
      "text/plain": [
       "['Olá', ' meu nome é: Bob', ' tenho 20 anos']"
      ]
     },
     "execution_count": 30,
     "metadata": {},
     "output_type": "execute_result"
    }
   ],
   "source": [
    "frase_split"
   ]
  },
  {
   "cell_type": "code",
   "execution_count": 31,
   "id": "52d3522b-77df-48c3-9926-ef0edbe19c40",
   "metadata": {},
   "outputs": [],
   "source": [
    "# length\n",
    "frase_length = len(frase_f_strings)"
   ]
  },
  {
   "cell_type": "code",
   "execution_count": 32,
   "id": "6a98320a-3b3e-4420-8e8f-e241762a4a91",
   "metadata": {},
   "outputs": [
    {
     "data": {
      "text/plain": [
       "35"
      ]
     },
     "execution_count": 32,
     "metadata": {},
     "output_type": "execute_result"
    }
   ],
   "source": [
    "frase_length"
   ]
  },
  {
   "cell_type": "code",
   "execution_count": 35,
   "id": "e0bac36e-45d4-4911-80e8-708d73b148c4",
   "metadata": {},
   "outputs": [],
   "source": [
    "# join\n",
    "frase_join = \"\".join(frase_split)"
   ]
  },
  {
   "cell_type": "code",
   "execution_count": 36,
   "id": "cf6210f0-a6a5-41da-a790-0f1eeedcc561",
   "metadata": {},
   "outputs": [
    {
     "data": {
      "text/plain": [
       "'Olá meu nome é: Bob tenho 20 anos'"
      ]
     },
     "execution_count": 36,
     "metadata": {},
     "output_type": "execute_result"
    }
   ],
   "source": [
    "frase_join"
   ]
  },
  {
   "cell_type": "code",
   "execution_count": 39,
   "id": "5e10a8c5-0cd5-4545-87c9-93bf7d0cd191",
   "metadata": {},
   "outputs": [],
   "source": [
    "# start ou endwith\n",
    "comeca_com_ola = frase_join.startswith(\"Olá minha\")"
   ]
  },
  {
   "cell_type": "code",
   "execution_count": 40,
   "id": "7a2bea3f-9f4c-49dd-8596-8c736b7cb235",
   "metadata": {},
   "outputs": [
    {
     "data": {
      "text/plain": [
       "False"
      ]
     },
     "execution_count": 40,
     "metadata": {},
     "output_type": "execute_result"
    }
   ],
   "source": [
    "comeca_com_ola"
   ]
  },
  {
   "cell_type": "code",
   "execution_count": 41,
   "id": "c123b605-fb08-4409-b1e2-161829502c2e",
   "metadata": {},
   "outputs": [],
   "source": [
    "# contains\n",
    "contem_bob = 'Bob' in frase_join"
   ]
  },
  {
   "cell_type": "code",
   "execution_count": 42,
   "id": "f4e2592c-d233-420b-a01a-fcabbabf8924",
   "metadata": {},
   "outputs": [
    {
     "data": {
      "text/plain": [
       "True"
      ]
     },
     "execution_count": 42,
     "metadata": {},
     "output_type": "execute_result"
    }
   ],
   "source": [
    "contem_bob"
   ]
  },
  {
   "cell_type": "code",
   "execution_count": null,
   "id": "212bd4fb-d134-4680-a822-458a8aaf932e",
   "metadata": {},
   "outputs": [],
   "source": []
  }
 ],
 "metadata": {
  "kernelspec": {
   "display_name": "Python 3 (ipykernel)",
   "language": "python",
   "name": "python3"
  },
  "language_info": {
   "codemirror_mode": {
    "name": "ipython",
    "version": 3
   },
   "file_extension": ".py",
   "mimetype": "text/x-python",
   "name": "python",
   "nbconvert_exporter": "python",
   "pygments_lexer": "ipython3",
   "version": "3.11.6"
  }
 },
 "nbformat": 4,
 "nbformat_minor": 5
}
