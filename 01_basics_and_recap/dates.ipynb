{
 "cells": [
  {
   "cell_type": "code",
   "execution_count": 25,
   "id": "0b801f0c-22f8-491b-aa6c-385a1d6aac3c",
   "metadata": {},
   "outputs": [],
   "source": [
    "import datetime"
   ]
  },
  {
   "cell_type": "code",
   "execution_count": 26,
   "id": "73c48b85-413a-45e1-835c-1a9abb7945c4",
   "metadata": {},
   "outputs": [],
   "source": [
    "# date\n",
    "data = datetime.date(2023,12,25)"
   ]
  },
  {
   "cell_type": "code",
   "execution_count": 27,
   "id": "376cd1ec-fe71-48dd-8f26-ab24e4736e02",
   "metadata": {},
   "outputs": [
    {
     "data": {
      "text/plain": [
       "datetime.date(2023, 12, 25)"
      ]
     },
     "execution_count": 27,
     "metadata": {},
     "output_type": "execute_result"
    }
   ],
   "source": [
    "data"
   ]
  },
  {
   "cell_type": "code",
   "execution_count": 28,
   "id": "a4558583-db77-4814-839b-5e9fb41be033",
   "metadata": {},
   "outputs": [],
   "source": [
    "datahora = datetime.datetime(2023,12,25,13,30,45)"
   ]
  },
  {
   "cell_type": "code",
   "execution_count": 29,
   "id": "21a6bb39-5f7d-408b-a8eb-b7145ab60b40",
   "metadata": {},
   "outputs": [
    {
     "data": {
      "text/plain": [
       "datetime.datetime(2023, 12, 25, 13, 30, 45)"
      ]
     },
     "execution_count": 29,
     "metadata": {},
     "output_type": "execute_result"
    }
   ],
   "source": [
    "datahora"
   ]
  },
  {
   "cell_type": "code",
   "execution_count": 30,
   "id": "02bb63d0-be76-43f4-b4e1-fc22b2860890",
   "metadata": {},
   "outputs": [],
   "source": [
    "# today\n",
    "data_atual = datetime.date.today()"
   ]
  },
  {
   "cell_type": "code",
   "execution_count": 31,
   "id": "cad4cd06-6330-400c-b2fd-0ccf705e747a",
   "metadata": {},
   "outputs": [
    {
     "data": {
      "text/plain": [
       "datetime.date(2023, 10, 12)"
      ]
     },
     "execution_count": 31,
     "metadata": {},
     "output_type": "execute_result"
    }
   ],
   "source": [
    "data_atual"
   ]
  },
  {
   "cell_type": "code",
   "execution_count": 32,
   "id": "ab78a4c7-2623-4daf-90e1-e0e1431101eb",
   "metadata": {},
   "outputs": [],
   "source": [
    "# datetime\n",
    "agora = datetime.datetime.now()"
   ]
  },
  {
   "cell_type": "code",
   "execution_count": 33,
   "id": "c3b74c13-0f20-418d-b2f5-ae4d34fadca1",
   "metadata": {},
   "outputs": [
    {
     "data": {
      "text/plain": [
       "datetime.datetime(2023, 10, 12, 20, 21, 27, 605358)"
      ]
     },
     "execution_count": 33,
     "metadata": {},
     "output_type": "execute_result"
    }
   ],
   "source": [
    "agora"
   ]
  },
  {
   "cell_type": "code",
   "execution_count": 34,
   "id": "b2302d5a-4c2a-4bfe-af5c-c7c93ff7fef5",
   "metadata": {},
   "outputs": [],
   "source": [
    "frase = f\"agora são: {agora}\""
   ]
  },
  {
   "cell_type": "code",
   "execution_count": 35,
   "id": "88b358bc-3945-4112-be06-06e1481b4bae",
   "metadata": {},
   "outputs": [
    {
     "data": {
      "text/plain": [
       "'agora são: 2023-10-12 20:21:27.605358'"
      ]
     },
     "execution_count": 35,
     "metadata": {},
     "output_type": "execute_result"
    }
   ],
   "source": [
    "frase"
   ]
  },
  {
   "cell_type": "code",
   "execution_count": 36,
   "id": "6c7359fb-14a0-40ba-9c54-34d5e3624a14",
   "metadata": {},
   "outputs": [],
   "source": [
    "# formatar uma data como string strftime\n",
    "agora_formatado = agora.strftime('%d /-/ %m /-/ %Y')"
   ]
  },
  {
   "cell_type": "code",
   "execution_count": 37,
   "id": "fb07ff61-ae7c-4016-ba4a-8bdce52c3949",
   "metadata": {
    "scrolled": true
   },
   "outputs": [
    {
     "data": {
      "text/plain": [
       "'12 /-/ 10 /-/ 2023'"
      ]
     },
     "execution_count": 37,
     "metadata": {},
     "output_type": "execute_result"
    }
   ],
   "source": [
    "agora_formatado"
   ]
  },
  {
   "cell_type": "code",
   "execution_count": 41,
   "id": "68e8cf7d-eba5-4802-85ef-bb957f7019bb",
   "metadata": {},
   "outputs": [],
   "source": [
    "# strptime\n",
    "from datetime import datetime as dt\n",
    "agora_formatado_date = dt.strptime(agora_formatado, '%d /-/ %m /-/ %Y')"
   ]
  },
  {
   "cell_type": "code",
   "execution_count": 42,
   "id": "0f759e99-c847-4fb5-b825-e677af27c5bb",
   "metadata": {},
   "outputs": [
    {
     "data": {
      "text/plain": [
       "datetime.datetime(2023, 10, 12, 0, 0)"
      ]
     },
     "execution_count": 42,
     "metadata": {},
     "output_type": "execute_result"
    }
   ],
   "source": [
    "agora_formatado_date"
   ]
  },
  {
   "cell_type": "code",
   "execution_count": 43,
   "id": "f625bc5a-fc6c-4982-b0b5-69bbb5314e12",
   "metadata": {},
   "outputs": [
    {
     "data": {
      "text/plain": [
       "datetime.datetime(2023, 10, 12, 20, 21, 27, 605358)"
      ]
     },
     "execution_count": 43,
     "metadata": {},
     "output_type": "execute_result"
    }
   ],
   "source": [
    "agora"
   ]
  },
  {
   "cell_type": "code",
   "execution_count": 44,
   "id": "7b5f0ac0-48a1-4c80-8ad5-5b1088c0af9c",
   "metadata": {},
   "outputs": [],
   "source": [
    "agora_mais_sete = agora + datetime.timedelta(days=7)"
   ]
  },
  {
   "cell_type": "code",
   "execution_count": 45,
   "id": "52195a72-c419-4205-bbb7-f57d9c8cc73d",
   "metadata": {},
   "outputs": [
    {
     "data": {
      "text/plain": [
       "datetime.datetime(2023, 10, 19, 20, 21, 27, 605358)"
      ]
     },
     "execution_count": 45,
     "metadata": {},
     "output_type": "execute_result"
    }
   ],
   "source": [
    "agora_mais_sete"
   ]
  },
  {
   "cell_type": "code",
   "execution_count": 46,
   "id": "61a842e9-b371-4a45-bdf0-8dee9a7688a1",
   "metadata": {},
   "outputs": [],
   "source": [
    "agora_mais_uma_hora = agora + datetime.timedelta(hours=1)"
   ]
  },
  {
   "cell_type": "code",
   "execution_count": 47,
   "id": "334794dc-2888-4766-8a4f-87fe722599a2",
   "metadata": {},
   "outputs": [
    {
     "data": {
      "text/plain": [
       "datetime.datetime(2023, 10, 12, 21, 21, 27, 605358)"
      ]
     },
     "execution_count": 47,
     "metadata": {},
     "output_type": "execute_result"
    }
   ],
   "source": [
    "agora_mais_uma_hora"
   ]
  },
  {
   "cell_type": "code",
   "execution_count": 51,
   "id": "47feee3a-c748-430d-a51d-6131c96cdb0b",
   "metadata": {},
   "outputs": [
    {
     "name": "stdout",
     "output_type": "stream",
     "text": [
      "False\n"
     ]
    }
   ],
   "source": [
    "print( agora_mais_uma_hora == agora_mais_sete )"
   ]
  },
  {
   "cell_type": "code",
   "execution_count": null,
   "id": "21374077-4b2b-4b59-8529-aa209cee0fc5",
   "metadata": {},
   "outputs": [],
   "source": []
  }
 ],
 "metadata": {
  "kernelspec": {
   "display_name": "Python 3 (ipykernel)",
   "language": "python",
   "name": "python3"
  },
  "language_info": {
   "codemirror_mode": {
    "name": "ipython",
    "version": 3
   },
   "file_extension": ".py",
   "mimetype": "text/x-python",
   "name": "python",
   "nbconvert_exporter": "python",
   "pygments_lexer": "ipython3",
   "version": "3.11.6"
  }
 },
 "nbformat": 4,
 "nbformat_minor": 5
}
