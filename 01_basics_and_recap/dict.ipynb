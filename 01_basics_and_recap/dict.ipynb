{
 "cells": [
  {
   "cell_type": "code",
   "execution_count": 1,
   "id": "3279d7e0-d224-4270-a543-fe293c969170",
   "metadata": {},
   "outputs": [],
   "source": [
    "# dict comprehension"
   ]
  },
  {
   "cell_type": "code",
   "execution_count": 3,
   "id": "cf7ecbb2-de9d-4a5c-ac58-2f800578a261",
   "metadata": {},
   "outputs": [],
   "source": [
    "piloto = {\n",
    "    'classe': 'Formula 1',\n",
    "    'nome': 'Lewis Hamilton',\n",
    "    'nacionalidade': 'Britânico',\n",
    "    'equipe': 'Mercedes'\n",
    "}"
   ]
  },
  {
   "cell_type": "code",
   "execution_count": 4,
   "id": "b5e49b20-b715-4d3a-a528-3c53b45c12d2",
   "metadata": {},
   "outputs": [],
   "source": [
    "piloto_valor_upper = {}"
   ]
  },
  {
   "cell_type": "code",
   "execution_count": 5,
   "id": "340c073a-f23e-4edd-83b9-3639db748029",
   "metadata": {},
   "outputs": [],
   "source": [
    "for chave, valor in piloto.items():\n",
    "    piloto_valor_upper[chave] = valor.upper()"
   ]
  },
  {
   "cell_type": "code",
   "execution_count": 6,
   "id": "07807de4-5eae-4a8e-8f92-931d83de08f8",
   "metadata": {},
   "outputs": [
    {
     "data": {
      "text/plain": [
       "{'classe': 'FORMULA 1',\n",
       " 'nome': 'LEWIS HAMILTON',\n",
       " 'nacionalidade': 'BRITÂNICO',\n",
       " 'equipe': 'MERCEDES'}"
      ]
     },
     "execution_count": 6,
     "metadata": {},
     "output_type": "execute_result"
    }
   ],
   "source": [
    "piloto_valor_upper"
   ]
  },
  {
   "cell_type": "code",
   "execution_count": 7,
   "id": "9db7e5e4-3ef3-4286-8db0-640f132d4dc9",
   "metadata": {},
   "outputs": [],
   "source": [
    "piloto_valor_upper_comprehension = { chave: valor.upper() for chave, valor in piloto.items() }"
   ]
  },
  {
   "cell_type": "code",
   "execution_count": 8,
   "id": "1b5123ac-5d06-4b69-86c1-a3f59f7e3b07",
   "metadata": {},
   "outputs": [
    {
     "data": {
      "text/plain": [
       "{'classe': 'FORMULA 1',\n",
       " 'nome': 'LEWIS HAMILTON',\n",
       " 'nacionalidade': 'BRITÂNICO',\n",
       " 'equipe': 'MERCEDES'}"
      ]
     },
     "execution_count": 8,
     "metadata": {},
     "output_type": "execute_result"
    }
   ],
   "source": [
    "piloto_valor_upper_comprehension"
   ]
  },
  {
   "cell_type": "code",
   "execution_count": null,
   "id": "642dd875-84b0-40aa-b9fd-2089326503b9",
   "metadata": {},
   "outputs": [],
   "source": []
  }
 ],
 "metadata": {
  "kernelspec": {
   "display_name": "Python 3 (ipykernel)",
   "language": "python",
   "name": "python3"
  },
  "language_info": {
   "codemirror_mode": {
    "name": "ipython",
    "version": 3
   },
   "file_extension": ".py",
   "mimetype": "text/x-python",
   "name": "python",
   "nbconvert_exporter": "python",
   "pygments_lexer": "ipython3",
   "version": "3.11.6"
  }
 },
 "nbformat": 4,
 "nbformat_minor": 5
}
