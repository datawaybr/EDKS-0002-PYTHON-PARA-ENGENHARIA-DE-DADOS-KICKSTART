{
 "cells": [
  {
   "cell_type": "code",
   "execution_count": 1,
   "id": "7e0b87fd-05cd-46cc-9784-1fcfd55562d0",
   "metadata": {},
   "outputs": [],
   "source": [
    "# list comprehension"
   ]
  },
  {
   "cell_type": "code",
   "execution_count": 2,
   "id": "4ae6748b-3eeb-4a4c-b1fb-7964977361e7",
   "metadata": {},
   "outputs": [],
   "source": [
    "numeros = [1,2,3,4,5,6]"
   ]
  },
  {
   "cell_type": "code",
   "execution_count": 3,
   "id": "8d4c3d36-8487-4761-9459-3b871197d1f2",
   "metadata": {},
   "outputs": [
    {
     "data": {
      "text/plain": [
       "[1, 2, 3, 4, 5, 6]"
      ]
     },
     "execution_count": 3,
     "metadata": {},
     "output_type": "execute_result"
    }
   ],
   "source": [
    "numeros"
   ]
  },
  {
   "cell_type": "code",
   "execution_count": 4,
   "id": "8bf1dbb2-7a1a-4701-a5b7-aa870ab8f79a",
   "metadata": {},
   "outputs": [],
   "source": [
    "numeros_ao_quadrado = []"
   ]
  },
  {
   "cell_type": "code",
   "execution_count": 5,
   "id": "f978140a-0404-4714-b96b-a9243cb3c85f",
   "metadata": {},
   "outputs": [],
   "source": [
    "for numero in numeros:\n",
    "    numeros_ao_quadrado.append(numero ** 2)"
   ]
  },
  {
   "cell_type": "code",
   "execution_count": 6,
   "id": "adb1ae2c-2251-4482-9f6b-75da45b8df34",
   "metadata": {},
   "outputs": [
    {
     "data": {
      "text/plain": [
       "[1, 4, 9, 16, 25, 36]"
      ]
     },
     "execution_count": 6,
     "metadata": {},
     "output_type": "execute_result"
    }
   ],
   "source": [
    "numeros_ao_quadrado"
   ]
  },
  {
   "cell_type": "code",
   "execution_count": 7,
   "id": "7478ca93-ad0d-4606-9779-106e66655cf8",
   "metadata": {},
   "outputs": [],
   "source": [
    "numeros_ao_quadrado_comprehension = [ numero ** 2 for numero in numeros ]"
   ]
  },
  {
   "cell_type": "code",
   "execution_count": 8,
   "id": "4d08b645-5441-412e-bf3a-3e457ffbf79c",
   "metadata": {},
   "outputs": [
    {
     "data": {
      "text/plain": [
       "[1, 4, 9, 16, 25, 36]"
      ]
     },
     "execution_count": 8,
     "metadata": {},
     "output_type": "execute_result"
    }
   ],
   "source": [
    "numeros_ao_quadrado_comprehension"
   ]
  },
  {
   "cell_type": "code",
   "execution_count": null,
   "id": "ec9d33c0-bfe0-4a9b-aaa4-72cb63c8b26b",
   "metadata": {},
   "outputs": [],
   "source": []
  }
 ],
 "metadata": {
  "kernelspec": {
   "display_name": "Python 3 (ipykernel)",
   "language": "python",
   "name": "python3"
  },
  "language_info": {
   "codemirror_mode": {
    "name": "ipython",
    "version": 3
   },
   "file_extension": ".py",
   "mimetype": "text/x-python",
   "name": "python",
   "nbconvert_exporter": "python",
   "pygments_lexer": "ipython3",
   "version": "3.11.6"
  }
 },
 "nbformat": 4,
 "nbformat_minor": 5
}
