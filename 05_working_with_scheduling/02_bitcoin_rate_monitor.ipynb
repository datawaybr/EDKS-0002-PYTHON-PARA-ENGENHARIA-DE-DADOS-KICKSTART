{
 "cells": [
  {
   "cell_type": "code",
   "execution_count": 7,
   "id": "784d0f48-48f6-48a1-82c6-9a86ed85eab9",
   "metadata": {},
   "outputs": [
    {
     "name": "stdout",
     "output_type": "stream",
     "text": [
      "Requirement already satisfied: requests in /opt/conda/lib/python3.11/site-packages (2.31.0)\n",
      "Requirement already satisfied: charset-normalizer<4,>=2 in /opt/conda/lib/python3.11/site-packages (from requests) (3.3.0)\n",
      "Requirement already satisfied: idna<4,>=2.5 in /opt/conda/lib/python3.11/site-packages (from requests) (3.4)\n",
      "Requirement already satisfied: urllib3<3,>=1.21.1 in /opt/conda/lib/python3.11/site-packages (from requests) (2.0.6)\n",
      "Requirement already satisfied: certifi>=2017.4.17 in /opt/conda/lib/python3.11/site-packages (from requests) (2023.7.22)\n"
     ]
    }
   ],
   "source": [
    "!pip install requests\n",
    "import requests"
   ]
  },
  {
   "cell_type": "code",
   "execution_count": 8,
   "id": "6279ce63-64e8-4db0-8097-dcb8cb29f2e7",
   "metadata": {},
   "outputs": [],
   "source": [
    "def extract_bitcoin_rate():\n",
    "\n",
    "    url = 'https://api.coindesk.com/v1/bpi/currentprice.json'\n",
    "    response = requests.get(url)\n",
    "    \n",
    "    return response.json()"
   ]
  },
  {
   "cell_type": "code",
   "execution_count": 9,
   "id": "fdeb8710-4f5e-4c94-b382-21602beec17a",
   "metadata": {},
   "outputs": [],
   "source": [
    "taxa = extract_bitcoin_rate()"
   ]
  },
  {
   "cell_type": "code",
   "execution_count": 10,
   "id": "b45c7a98-eecf-4923-9797-ec1a57bcd1f2",
   "metadata": {},
   "outputs": [
    {
     "data": {
      "text/plain": [
       "{'time': {'updated': 'Oct 26, 2023 15:20:00 UTC',\n",
       "  'updatedISO': '2023-10-26T15:20:00+00:00',\n",
       "  'updateduk': 'Oct 26, 2023 at 16:20 BST'},\n",
       " 'disclaimer': 'This data was produced from the CoinDesk Bitcoin Price Index (USD). Non-USD currency data converted using hourly conversion rate from openexchangerates.org',\n",
       " 'chartName': 'Bitcoin',\n",
       " 'bpi': {'USD': {'code': 'USD',\n",
       "   'symbol': '&#36;',\n",
       "   'rate': '33,951.3398',\n",
       "   'description': 'United States Dollar',\n",
       "   'rate_float': 33951.3398},\n",
       "  'GBP': {'code': 'GBP',\n",
       "   'symbol': '&pound;',\n",
       "   'rate': '28,369.4679',\n",
       "   'description': 'British Pound Sterling',\n",
       "   'rate_float': 28369.4679},\n",
       "  'EUR': {'code': 'EUR',\n",
       "   'symbol': '&euro;',\n",
       "   'rate': '33,073.5618',\n",
       "   'description': 'Euro',\n",
       "   'rate_float': 33073.5618}}}"
      ]
     },
     "execution_count": 10,
     "metadata": {},
     "output_type": "execute_result"
    }
   ],
   "source": [
    "taxa"
   ]
  },
  {
   "cell_type": "code",
   "execution_count": 16,
   "id": "6f124b6e-f8e8-4297-9cdb-f259b6604d03",
   "metadata": {},
   "outputs": [],
   "source": [
    "usd_rate = taxa['bpi']['USD']['rate']"
   ]
  },
  {
   "cell_type": "code",
   "execution_count": 12,
   "id": "cd90146e-13fa-4d31-b05e-ff8ade78a665",
   "metadata": {},
   "outputs": [
    {
     "data": {
      "text/plain": [
       "'33,951.3398'"
      ]
     },
     "execution_count": 12,
     "metadata": {},
     "output_type": "execute_result"
    }
   ],
   "source": [
    "usd_rate"
   ]
  },
  {
   "cell_type": "code",
   "execution_count": 21,
   "id": "5093587c-6ce6-436b-817e-ed243b870916",
   "metadata": {},
   "outputs": [],
   "source": [
    "usd_rate2 = taxa.get('bpi').get('USD').get('rate')"
   ]
  },
  {
   "cell_type": "code",
   "execution_count": 22,
   "id": "6983d8c2-6937-46a4-b502-8c1e1fda8137",
   "metadata": {},
   "outputs": [
    {
     "data": {
      "text/plain": [
       "'33,951.3398'"
      ]
     },
     "execution_count": 22,
     "metadata": {},
     "output_type": "execute_result"
    }
   ],
   "source": [
    "usd_rate2"
   ]
  },
  {
   "cell_type": "code",
   "execution_count": null,
   "id": "516dd475-7c37-46fe-a3af-0b1a6e414ab7",
   "metadata": {},
   "outputs": [],
   "source": []
  }
 ],
 "metadata": {
  "kernelspec": {
   "display_name": "Python 3 (ipykernel)",
   "language": "python",
   "name": "python3"
  },
  "language_info": {
   "codemirror_mode": {
    "name": "ipython",
    "version": 3
   },
   "file_extension": ".py",
   "mimetype": "text/x-python",
   "name": "python",
   "nbconvert_exporter": "python",
   "pygments_lexer": "ipython3",
   "version": "3.11.6"
  }
 },
 "nbformat": 4,
 "nbformat_minor": 5
}
