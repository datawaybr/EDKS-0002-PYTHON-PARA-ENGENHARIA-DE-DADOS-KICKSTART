{
 "cells": [
  {
   "cell_type": "code",
   "execution_count": 1,
   "id": "921bcaaa-f788-48df-9afb-efd2b0634df1",
   "metadata": {},
   "outputs": [],
   "source": [
    "import requests"
   ]
  },
  {
   "cell_type": "code",
   "execution_count": 2,
   "id": "59f9078a-9163-4386-a410-b3f31bf2e8bf",
   "metadata": {},
   "outputs": [],
   "source": [
    "url = \"https://gorest.co.in/public/v2/users\"\n",
    "token =  \"08a7b94c1796608ec3abd5e3fe66dcdd9a4fc7908e844f6615877745b91c45ee\""
   ]
  },
  {
   "cell_type": "code",
   "execution_count": 3,
   "id": "9f7eef8c-84e2-4710-9f4b-e7f0725d04b3",
   "metadata": {},
   "outputs": [],
   "source": [
    "headers = {\n",
    "    \"Authorization\": f\"Bearer { token }\"\n",
    "}"
   ]
  },
  {
   "cell_type": "code",
   "execution_count": 4,
   "id": "d761b3de-5614-43d3-82de-498b30e9159c",
   "metadata": {},
   "outputs": [],
   "source": [
    "rossiw_id = \"5362647\""
   ]
  },
  {
   "cell_type": "markdown",
   "id": "0d2c75a9-b731-42e5-87d3-16423e03e405",
   "metadata": {
    "jp-MarkdownHeadingCollapsed": true
   },
   "source": [
    "# Get"
   ]
  },
  {
   "cell_type": "code",
   "execution_count": 19,
   "id": "31eabba3-6bbd-4f10-b5fc-e2244b40f84b",
   "metadata": {},
   "outputs": [],
   "source": [
    "url_rossiw = f\"{url}/{rossiw_id}\""
   ]
  },
  {
   "cell_type": "code",
   "execution_count": 20,
   "id": "be524c1f-6973-4bed-b279-e8ba627d81ba",
   "metadata": {},
   "outputs": [],
   "source": [
    "status_usuario = requests.get(url_rossiw, headers=headers)"
   ]
  },
  {
   "cell_type": "code",
   "execution_count": 21,
   "id": "094a705e-c361-4fb5-91a1-5b3cab69a767",
   "metadata": {},
   "outputs": [],
   "source": [
    "resposta_json = status_usuario.json()"
   ]
  },
  {
   "cell_type": "code",
   "execution_count": 22,
   "id": "5d9457b3-9fb1-4826-8009-4ad69a746a12",
   "metadata": {},
   "outputs": [
    {
     "data": {
      "text/plain": [
       "'inactive'"
      ]
     },
     "execution_count": 22,
     "metadata": {},
     "output_type": "execute_result"
    }
   ],
   "source": [
    "resposta_json.get('status')"
   ]
  },
  {
   "cell_type": "markdown",
   "id": "e4fe9f88-9c80-4c29-9cfc-39abdd91305c",
   "metadata": {
    "jp-MarkdownHeadingCollapsed": true
   },
   "source": [
    "# Update"
   ]
  },
  {
   "cell_type": "code",
   "execution_count": 16,
   "id": "372e9df3-1ae5-4d19-8744-3473a16d2411",
   "metadata": {},
   "outputs": [],
   "source": [
    "dados = {\n",
    "    'id': rossiw_id,\n",
    "    'status': 'inactive'\n",
    "}"
   ]
  },
  {
   "cell_type": "code",
   "execution_count": 17,
   "id": "cb700b7f-1181-4ec8-85ba-ae18c3405387",
   "metadata": {},
   "outputs": [
    {
     "data": {
      "text/plain": [
       "'https://gorest.co.in/public/v2/users/5362647'"
      ]
     },
     "execution_count": 17,
     "metadata": {},
     "output_type": "execute_result"
    }
   ],
   "source": [
    "url_rossiw"
   ]
  },
  {
   "cell_type": "code",
   "execution_count": 18,
   "id": "6a2b4f34-6f9f-409a-ae6c-598f874a579f",
   "metadata": {},
   "outputs": [],
   "source": [
    "respose = requests.patch(url_rossiw, headers=headers, data=dados)"
   ]
  },
  {
   "cell_type": "code",
   "execution_count": null,
   "id": "f22adba6-6c44-4656-88d1-a0057893fc4d",
   "metadata": {},
   "outputs": [],
   "source": []
  }
 ],
 "metadata": {
  "kernelspec": {
   "display_name": "Python 3 (ipykernel)",
   "language": "python",
   "name": "python3"
  },
  "language_info": {
   "codemirror_mode": {
    "name": "ipython",
    "version": 3
   },
   "file_extension": ".py",
   "mimetype": "text/x-python",
   "name": "python",
   "nbconvert_exporter": "python",
   "pygments_lexer": "ipython3",
   "version": "3.11.6"
  }
 },
 "nbformat": 4,
 "nbformat_minor": 5
}
