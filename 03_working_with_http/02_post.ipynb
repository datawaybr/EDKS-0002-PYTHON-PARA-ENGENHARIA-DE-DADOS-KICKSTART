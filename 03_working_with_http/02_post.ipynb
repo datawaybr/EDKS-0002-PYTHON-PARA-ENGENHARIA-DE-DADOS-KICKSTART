{
 "cells": [
  {
   "cell_type": "code",
   "execution_count": 1,
   "id": "e4869e99-5d51-4e36-b816-43e05dc7cebf",
   "metadata": {},
   "outputs": [],
   "source": [
    "import requests"
   ]
  },
  {
   "cell_type": "code",
   "execution_count": 2,
   "id": "2764ab56-0cfc-4915-8e7c-d5eb4e9a0fc1",
   "metadata": {},
   "outputs": [],
   "source": [
    "url = \"https://gorest.co.in/public/v2/users\"\n",
    "token =  \"08a7b94c1796608ec3abd5e3fe66dcdd9a4fc7908e844f6615877745b91c45ee\""
   ]
  },
  {
   "cell_type": "code",
   "execution_count": 3,
   "id": "987c83d2-4417-45c3-ad07-38f34f2a3411",
   "metadata": {},
   "outputs": [],
   "source": [
    "headers = {\n",
    "    \"Authorization\": f\"Bearer { token }\"\n",
    "}"
   ]
  },
  {
   "cell_type": "code",
   "execution_count": 4,
   "id": "813117a9-0ab1-4949-83e1-878089197434",
   "metadata": {},
   "outputs": [],
   "source": [
    "dados = {\n",
    "    \"name\": 'rossiw',\n",
    "    \"gender\": 'male',\n",
    "    \"email\": 'mail.test.rossiw@co.in',\n",
    "    \"status\": 'active'\n",
    "}"
   ]
  },
  {
   "cell_type": "code",
   "execution_count": 5,
   "id": "6247e3ea-2102-4927-a3ec-6a1bdd930698",
   "metadata": {},
   "outputs": [],
   "source": [
    "resposta = requests.post(\n",
    "    url,\n",
    "    headers=headers,\n",
    "    data=dados\n",
    ")"
   ]
  },
  {
   "cell_type": "code",
   "execution_count": 6,
   "id": "7b22ee02-25ac-49aa-8804-f1a50c9fbcff",
   "metadata": {},
   "outputs": [
    {
     "data": {
      "text/plain": [
       "201"
      ]
     },
     "execution_count": 6,
     "metadata": {},
     "output_type": "execute_result"
    }
   ],
   "source": [
    "resposta.status_code"
   ]
  },
  {
   "cell_type": "code",
   "execution_count": 7,
   "id": "9c9d4a7a-776a-414a-b8cf-8ca205a6a020",
   "metadata": {},
   "outputs": [],
   "source": [
    "usuario_rossiw = resposta.json()"
   ]
  },
  {
   "cell_type": "code",
   "execution_count": 8,
   "id": "4d00ff69-8adf-4101-a459-63dde4b98751",
   "metadata": {},
   "outputs": [
    {
     "data": {
      "text/plain": [
       "{'id': 5362647,\n",
       " 'name': 'rossiw',\n",
       " 'email': 'mail.test.rossiw@co.in',\n",
       " 'gender': 'male',\n",
       " 'status': 'active'}"
      ]
     },
     "execution_count": 8,
     "metadata": {},
     "output_type": "execute_result"
    }
   ],
   "source": [
    "usuario_rossiw"
   ]
  },
  {
   "cell_type": "code",
   "execution_count": null,
   "id": "580f2a28-fe4a-4a21-b824-4fcdb595f627",
   "metadata": {},
   "outputs": [],
   "source": [
    "rossiw_id = 5362647"
   ]
  }
 ],
 "metadata": {
  "kernelspec": {
   "display_name": "Python 3 (ipykernel)",
   "language": "python",
   "name": "python3"
  },
  "language_info": {
   "codemirror_mode": {
    "name": "ipython",
    "version": 3
   },
   "file_extension": ".py",
   "mimetype": "text/x-python",
   "name": "python",
   "nbconvert_exporter": "python",
   "pygments_lexer": "ipython3",
   "version": "3.11.6"
  }
 },
 "nbformat": 4,
 "nbformat_minor": 5
}
