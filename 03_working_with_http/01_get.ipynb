{
 "cells": [
  {
   "cell_type": "code",
   "execution_count": 4,
   "id": "14b0c387-0c35-49dc-a54c-2a57c2ba159f",
   "metadata": {},
   "outputs": [
    {
     "name": "stdout",
     "output_type": "stream",
     "text": [
      "Requirement already satisfied: requests in /opt/conda/lib/python3.11/site-packages (2.31.0)\n",
      "Requirement already satisfied: charset-normalizer<4,>=2 in /opt/conda/lib/python3.11/site-packages (from requests) (3.3.0)\n",
      "Requirement already satisfied: idna<4,>=2.5 in /opt/conda/lib/python3.11/site-packages (from requests) (3.4)\n",
      "Requirement already satisfied: urllib3<3,>=1.21.1 in /opt/conda/lib/python3.11/site-packages (from requests) (2.0.6)\n",
      "Requirement already satisfied: certifi>=2017.4.17 in /opt/conda/lib/python3.11/site-packages (from requests) (2023.7.22)\n"
     ]
    }
   ],
   "source": [
    "!pip install requests\n",
    "import requests"
   ]
  },
  {
   "cell_type": "code",
   "execution_count": 23,
   "id": "934bf9c1-b505-47b2-b730-30aa99d0db13",
   "metadata": {},
   "outputs": [],
   "source": [
    "url = \"https://gorest.co.in/public/v2/userss\""
   ]
  },
  {
   "cell_type": "code",
   "execution_count": 24,
   "id": "92416ba2-f8b9-46a3-a597-64ac7d2557a2",
   "metadata": {},
   "outputs": [],
   "source": [
    "resposta = requests.get(url)"
   ]
  },
  {
   "cell_type": "code",
   "execution_count": 25,
   "id": "50f08c16-d4dc-4206-ab4b-485bbd3989d2",
   "metadata": {},
   "outputs": [],
   "source": [
    "status_resposta = resposta.status_code"
   ]
  },
  {
   "cell_type": "code",
   "execution_count": 26,
   "id": "f41060dd-ae6b-4bb9-abea-11054f6d5536",
   "metadata": {},
   "outputs": [
    {
     "name": "stdout",
     "output_type": "stream",
     "text": [
      "Algo de errado aconteceu: 404\n"
     ]
    }
   ],
   "source": [
    "if status_resposta == 200:\n",
    "    usuarios = resposta.json()\n",
    "    print(usuarios)\n",
    "else:\n",
    "    print(f'Algo de errado aconteceu: { status_resposta }')"
   ]
  },
  {
   "cell_type": "code",
   "execution_count": null,
   "id": "a5551a7f-36a1-4630-85f7-2dd255e31591",
   "metadata": {},
   "outputs": [],
   "source": []
  }
 ],
 "metadata": {
  "kernelspec": {
   "display_name": "Python 3 (ipykernel)",
   "language": "python",
   "name": "python3"
  },
  "language_info": {
   "codemirror_mode": {
    "name": "ipython",
    "version": 3
   },
   "file_extension": ".py",
   "mimetype": "text/x-python",
   "name": "python",
   "nbconvert_exporter": "python",
   "pygments_lexer": "ipython3",
   "version": "3.11.6"
  }
 },
 "nbformat": 4,
 "nbformat_minor": 5
}
