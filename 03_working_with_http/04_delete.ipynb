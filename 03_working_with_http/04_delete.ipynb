{
 "cells": [
  {
   "cell_type": "code",
   "execution_count": 2,
   "id": "6d8da1e3-8518-46e3-91b8-01d1686c2ee8",
   "metadata": {},
   "outputs": [],
   "source": [
    "import requests"
   ]
  },
  {
   "cell_type": "code",
   "execution_count": 1,
   "id": "e5c0c0c2-9060-45f8-a7a6-e99b2c8d6df0",
   "metadata": {},
   "outputs": [],
   "source": [
    "url = \"https://gorest.co.in/public/v2/users\"\n",
    "token =  \"08a7b94c1796608ec3abd5e3fe66dcdd9a4fc7908e844f6615877745b91c45ee\""
   ]
  },
  {
   "cell_type": "code",
   "execution_count": 3,
   "id": "b79a8fcf-9e0f-4f0b-b8b6-4e562b63e7cf",
   "metadata": {},
   "outputs": [],
   "source": [
    "headers = {\n",
    "    \"Authorization\": f\"Bearer { token }\"\n",
    "}"
   ]
  },
  {
   "cell_type": "code",
   "execution_count": 4,
   "id": "2b4846b0-ec04-4843-b9a8-8114158447d8",
   "metadata": {},
   "outputs": [],
   "source": [
    "rossiw_id = \"5362647\""
   ]
  },
  {
   "cell_type": "markdown",
   "id": "e6a28455-4936-45ef-839d-e09cb3a8474b",
   "metadata": {
    "jp-MarkdownHeadingCollapsed": true
   },
   "source": [
    "# CRUD"
   ]
  },
  {
   "cell_type": "code",
   "execution_count": null,
   "id": "ae90c92f-b79d-43cc-b373-e09bccb2905d",
   "metadata": {},
   "outputs": [],
   "source": [
    "## C -> Create -> Criar\n",
    "## R -> Read   -> Leitura\n",
    "## U -> Update -> Atualização\n",
    "## D -> Delete -> Remover ..."
   ]
  },
  {
   "cell_type": "code",
   "execution_count": null,
   "id": "708c3385-1c4b-43ae-b9f1-8ec3d073508f",
   "metadata": {},
   "outputs": [],
   "source": []
  },
  {
   "cell_type": "markdown",
   "id": "2cf1c419-40be-40bb-84f8-60761b805239",
   "metadata": {},
   "source": [
    "# Delete"
   ]
  },
  {
   "cell_type": "code",
   "execution_count": 5,
   "id": "524da72b-f240-4cc1-8465-b81d9beac2bd",
   "metadata": {},
   "outputs": [],
   "source": [
    "dados = {\n",
    "    'id': rossiw_id\n",
    "}"
   ]
  },
  {
   "cell_type": "code",
   "execution_count": 8,
   "id": "001cd7cf-292f-470a-af82-4fba8d4ecc0d",
   "metadata": {},
   "outputs": [],
   "source": [
    "url_completa = f\"{url}/{rossiw_id}\""
   ]
  },
  {
   "cell_type": "code",
   "execution_count": 9,
   "id": "37930dd0-6aff-417e-9683-b27945c25c88",
   "metadata": {},
   "outputs": [
    {
     "data": {
      "text/plain": [
       "'https://gorest.co.in/public/v2/users/5362647'"
      ]
     },
     "execution_count": 9,
     "metadata": {},
     "output_type": "execute_result"
    }
   ],
   "source": [
    "url_completa"
   ]
  },
  {
   "cell_type": "code",
   "execution_count": 10,
   "id": "3c1588e7-df4c-4d86-9683-394be298a254",
   "metadata": {},
   "outputs": [],
   "source": [
    "usuario_removido = requests.delete(url_completa, headers=headers, data=dados)"
   ]
  },
  {
   "cell_type": "code",
   "execution_count": 11,
   "id": "f37747e7-7682-434c-9c5f-2a3d516ba547",
   "metadata": {},
   "outputs": [
    {
     "data": {
      "text/plain": [
       "<Response [204]>"
      ]
     },
     "execution_count": 11,
     "metadata": {},
     "output_type": "execute_result"
    }
   ],
   "source": [
    "usuario_removido"
   ]
  },
  {
   "cell_type": "code",
   "execution_count": null,
   "id": "409a76d2-e9ae-40ff-aeb4-8a697142ae50",
   "metadata": {},
   "outputs": [],
   "source": []
  }
 ],
 "metadata": {
  "kernelspec": {
   "display_name": "Python 3 (ipykernel)",
   "language": "python",
   "name": "python3"
  },
  "language_info": {
   "codemirror_mode": {
    "name": "ipython",
    "version": 3
   },
   "file_extension": ".py",
   "mimetype": "text/x-python",
   "name": "python",
   "nbconvert_exporter": "python",
   "pygments_lexer": "ipython3",
   "version": "3.11.6"
  }
 },
 "nbformat": 4,
 "nbformat_minor": 5
}
